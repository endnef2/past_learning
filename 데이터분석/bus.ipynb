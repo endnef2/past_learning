{
 "cells": [
  {
   "attachments": {},
   "cell_type": "markdown",
   "metadata": {},
   "source": [
    "## 버스 운행시간 예측 프로젝트\n",
    "참고 : https://dacon.io/edu/1003"
   ]
  },
  {
   "cell_type": "code",
   "execution_count": 1,
   "metadata": {},
   "outputs": [],
   "source": [
    "import pandas as pd"
   ]
  },
  {
   "attachments": {},
   "cell_type": "markdown",
   "metadata": {},
   "source": [
    "### 데이터 불러오기, 확인"
   ]
  },
  {
   "cell_type": "code",
   "execution_count": 4,
   "metadata": {},
   "outputs": [],
   "source": [
    "test = pd.read_csv('C:/Users/endne/OneDrive/바탕 화면/파이썬/알고리즘/dataset/229611_버스 운행시간 예측 경진대회_data/test.csv')\n",
    "train = pd.read_csv('C:/Users/endne/OneDrive/바탕 화면/파이썬/알고리즘/dataset/229611_버스 운행시간 예측 경진대회_data/train.csv')"
   ]
  },
  {
   "cell_type": "code",
   "execution_count": 5,
   "metadata": {},
   "outputs": [
    {
     "name": "stdout",
     "output_type": "stream",
     "text": [
      "<class 'pandas.core.frame.DataFrame'>\n",
      "RangeIndex: 210457 entries, 0 to 210456\n",
      "Data columns (total 14 columns):\n",
      " #   Column            Non-Null Count   Dtype  \n",
      "---  ------            --------------   -----  \n",
      " 0   id                210457 non-null  int64  \n",
      " 1   date              210457 non-null  object \n",
      " 2   route_id          210457 non-null  int64  \n",
      " 3   vh_id             210457 non-null  int64  \n",
      " 4   route_nm          210457 non-null  object \n",
      " 5   now_latitude      210457 non-null  float64\n",
      " 6   now_longitude     210457 non-null  float64\n",
      " 7   now_station       210457 non-null  object \n",
      " 8   now_arrive_time   210457 non-null  object \n",
      " 9   distance          210457 non-null  float64\n",
      " 10  next_station      210457 non-null  object \n",
      " 11  next_latitude     210457 non-null  float64\n",
      " 12  next_longitude    210457 non-null  float64\n",
      " 13  next_arrive_time  210457 non-null  int64  \n",
      "dtypes: float64(5), int64(4), object(5)\n",
      "memory usage: 22.5+ MB\n"
     ]
    }
   ],
   "source": [
    "train.info()"
   ]
  },
  {
   "cell_type": "code",
   "execution_count": 6,
   "metadata": {},
   "outputs": [
    {
     "name": "stdout",
     "output_type": "stream",
     "text": [
      "<class 'pandas.core.frame.DataFrame'>\n",
      "RangeIndex: 91774 entries, 0 to 91773\n",
      "Data columns (total 13 columns):\n",
      " #   Column           Non-Null Count  Dtype  \n",
      "---  ------           --------------  -----  \n",
      " 0   id               91774 non-null  int64  \n",
      " 1   date             91774 non-null  object \n",
      " 2   route_id         91774 non-null  int64  \n",
      " 3   vh_id            91774 non-null  int64  \n",
      " 4   route_nm         91774 non-null  object \n",
      " 5   now_latitude     91774 non-null  float64\n",
      " 6   now_longitude    91774 non-null  float64\n",
      " 7   now_station      91774 non-null  object \n",
      " 8   now_arrive_time  91774 non-null  object \n",
      " 9   distance         91774 non-null  float64\n",
      " 10  next_station     91774 non-null  object \n",
      " 11  next_latitude    91774 non-null  float64\n",
      " 12  next_longitude   91774 non-null  float64\n",
      "dtypes: float64(5), int64(3), object(5)\n",
      "memory usage: 9.1+ MB\n"
     ]
    }
   ],
   "source": [
    "test.info()"
   ]
  },
  {
   "cell_type": "code",
   "execution_count": 11,
   "metadata": {},
   "outputs": [],
   "source": [
    "# 데이터를 살펴보니 총 14개의 열이 있네요! 하나하나 살펴보겠습니다.\n",
    "\n",
    "# id: 해당 데이터에서의 고유한 ID\n",
    "# date: 버스 운행 날짜\n",
    "# route_id: 버스 노선 ID\n",
    "# vh_id: 버스 ID\n",
    "# route_nm: 버스 노선 실제 번호\n",
    "# now_latitude: 현재 정류소의 위도\n",
    "# now_longitude: 현재 정류소의 경도\n",
    "# now_station: 현재 정류소 이름\n",
    "# now_arrive_time: 현재 정류장에 도착한 시간\n",
    "# distance: 현재 정류장에서 다음 정류장까지 실제 이동한 거리\n",
    "# next_station: 다음 정류소 이름\n",
    "# next_latitude: 다음 정류소의 위도\n",
    "# next_longitude: 다음 정류소의 경도\n",
    "# next_arrive_time: 다음 정류장에 도착할 때 까지 걸린 시간(단위: 초)을 의미하며, 우리가 구하고자 하는 값입니다.\n",
    "# info() 함수를 이용해 데이터 결측치 및 변수들의 타입을 확인해 본 결과,\n",
    "# train 데이터는 총 14개의 열과 210457개의 행으로 이루어져 있습니다."
   ]
  },
  {
   "cell_type": "code",
   "execution_count": 9,
   "metadata": {},
   "outputs": [],
   "source": [
    "submission = pd.read_csv('C:/Users/endne/OneDrive/바탕 화면/파이썬/알고리즘/dataset/229611_버스 운행시간 예측 경진대회_data/submission_제출양식.csv')"
   ]
  },
  {
   "cell_type": "code",
   "execution_count": 10,
   "metadata": {},
   "outputs": [
    {
     "data": {
      "text/html": [
       "<div>\n",
       "<style scoped>\n",
       "    .dataframe tbody tr th:only-of-type {\n",
       "        vertical-align: middle;\n",
       "    }\n",
       "\n",
       "    .dataframe tbody tr th {\n",
       "        vertical-align: top;\n",
       "    }\n",
       "\n",
       "    .dataframe thead th {\n",
       "        text-align: right;\n",
       "    }\n",
       "</style>\n",
       "<table border=\"1\" class=\"dataframe\">\n",
       "  <thead>\n",
       "    <tr style=\"text-align: right;\">\n",
       "      <th></th>\n",
       "      <th>id</th>\n",
       "      <th>next_arrive_time</th>\n",
       "    </tr>\n",
       "  </thead>\n",
       "  <tbody>\n",
       "    <tr>\n",
       "      <th>0</th>\n",
       "      <td>210457</td>\n",
       "      <td>0</td>\n",
       "    </tr>\n",
       "    <tr>\n",
       "      <th>1</th>\n",
       "      <td>210458</td>\n",
       "      <td>0</td>\n",
       "    </tr>\n",
       "    <tr>\n",
       "      <th>2</th>\n",
       "      <td>210459</td>\n",
       "      <td>0</td>\n",
       "    </tr>\n",
       "    <tr>\n",
       "      <th>3</th>\n",
       "      <td>210460</td>\n",
       "      <td>0</td>\n",
       "    </tr>\n",
       "    <tr>\n",
       "      <th>4</th>\n",
       "      <td>210461</td>\n",
       "      <td>0</td>\n",
       "    </tr>\n",
       "  </tbody>\n",
       "</table>\n",
       "</div>"
      ],
      "text/plain": [
       "       id  next_arrive_time\n",
       "0  210457                 0\n",
       "1  210458                 0\n",
       "2  210459                 0\n",
       "3  210460                 0\n",
       "4  210461                 0"
      ]
     },
     "execution_count": 10,
     "metadata": {},
     "output_type": "execute_result"
    }
   ],
   "source": [
    "submission.head()"
   ]
  },
  {
   "cell_type": "code",
   "execution_count": 13,
   "metadata": {},
   "outputs": [
    {
     "data": {
      "text/html": [
       "<div>\n",
       "<style scoped>\n",
       "    .dataframe tbody tr th:only-of-type {\n",
       "        vertical-align: middle;\n",
       "    }\n",
       "\n",
       "    .dataframe tbody tr th {\n",
       "        vertical-align: top;\n",
       "    }\n",
       "\n",
       "    .dataframe thead th {\n",
       "        text-align: right;\n",
       "    }\n",
       "</style>\n",
       "<table border=\"1\" class=\"dataframe\">\n",
       "  <thead>\n",
       "    <tr style=\"text-align: right;\">\n",
       "      <th></th>\n",
       "      <th>id</th>\n",
       "      <th>date</th>\n",
       "      <th>route_id</th>\n",
       "      <th>vh_id</th>\n",
       "      <th>route_nm</th>\n",
       "      <th>now_latitude</th>\n",
       "      <th>now_longitude</th>\n",
       "      <th>now_station</th>\n",
       "      <th>now_arrive_time</th>\n",
       "      <th>distance</th>\n",
       "      <th>next_station</th>\n",
       "      <th>next_latitude</th>\n",
       "      <th>next_longitude</th>\n",
       "      <th>next_arrive_time</th>\n",
       "    </tr>\n",
       "  </thead>\n",
       "  <tbody>\n",
       "    <tr>\n",
       "      <th>0</th>\n",
       "      <td>0</td>\n",
       "      <td>2019-10-15</td>\n",
       "      <td>405136001</td>\n",
       "      <td>7997025</td>\n",
       "      <td>360-1</td>\n",
       "      <td>33.456267</td>\n",
       "      <td>126.551750</td>\n",
       "      <td>제주대학교입구</td>\n",
       "      <td>06시</td>\n",
       "      <td>266.0</td>\n",
       "      <td>제대마을</td>\n",
       "      <td>33.457724</td>\n",
       "      <td>126.554014</td>\n",
       "      <td>24</td>\n",
       "    </tr>\n",
       "    <tr>\n",
       "      <th>1</th>\n",
       "      <td>1</td>\n",
       "      <td>2019-10-15</td>\n",
       "      <td>405136001</td>\n",
       "      <td>7997025</td>\n",
       "      <td>360-1</td>\n",
       "      <td>33.457724</td>\n",
       "      <td>126.554014</td>\n",
       "      <td>제대마을</td>\n",
       "      <td>06시</td>\n",
       "      <td>333.0</td>\n",
       "      <td>제대아파트</td>\n",
       "      <td>33.458783</td>\n",
       "      <td>126.557353</td>\n",
       "      <td>36</td>\n",
       "    </tr>\n",
       "    <tr>\n",
       "      <th>2</th>\n",
       "      <td>2</td>\n",
       "      <td>2019-10-15</td>\n",
       "      <td>405136001</td>\n",
       "      <td>7997025</td>\n",
       "      <td>360-1</td>\n",
       "      <td>33.458783</td>\n",
       "      <td>126.557353</td>\n",
       "      <td>제대아파트</td>\n",
       "      <td>06시</td>\n",
       "      <td>415.0</td>\n",
       "      <td>제주대학교</td>\n",
       "      <td>33.459893</td>\n",
       "      <td>126.561624</td>\n",
       "      <td>40</td>\n",
       "    </tr>\n",
       "    <tr>\n",
       "      <th>3</th>\n",
       "      <td>3</td>\n",
       "      <td>2019-10-15</td>\n",
       "      <td>405136001</td>\n",
       "      <td>7997025</td>\n",
       "      <td>360-1</td>\n",
       "      <td>33.479705</td>\n",
       "      <td>126.543811</td>\n",
       "      <td>남국원(아라방면)</td>\n",
       "      <td>06시</td>\n",
       "      <td>578.0</td>\n",
       "      <td>제주여자중고등학교(아라방면)</td>\n",
       "      <td>33.484860</td>\n",
       "      <td>126.542928</td>\n",
       "      <td>42</td>\n",
       "    </tr>\n",
       "    <tr>\n",
       "      <th>4</th>\n",
       "      <td>4</td>\n",
       "      <td>2019-10-15</td>\n",
       "      <td>405136001</td>\n",
       "      <td>7997025</td>\n",
       "      <td>360-1</td>\n",
       "      <td>33.485662</td>\n",
       "      <td>126.494923</td>\n",
       "      <td>도호동</td>\n",
       "      <td>07시</td>\n",
       "      <td>374.0</td>\n",
       "      <td>은남동</td>\n",
       "      <td>33.485822</td>\n",
       "      <td>126.490897</td>\n",
       "      <td>64</td>\n",
       "    </tr>\n",
       "  </tbody>\n",
       "</table>\n",
       "</div>"
      ],
      "text/plain": [
       "   id        date   route_id    vh_id route_nm  now_latitude  now_longitude  \\\n",
       "0   0  2019-10-15  405136001  7997025    360-1     33.456267     126.551750   \n",
       "1   1  2019-10-15  405136001  7997025    360-1     33.457724     126.554014   \n",
       "2   2  2019-10-15  405136001  7997025    360-1     33.458783     126.557353   \n",
       "3   3  2019-10-15  405136001  7997025    360-1     33.479705     126.543811   \n",
       "4   4  2019-10-15  405136001  7997025    360-1     33.485662     126.494923   \n",
       "\n",
       "  now_station now_arrive_time  distance     next_station  next_latitude  \\\n",
       "0     제주대학교입구             06시     266.0             제대마을      33.457724   \n",
       "1        제대마을             06시     333.0            제대아파트      33.458783   \n",
       "2       제대아파트             06시     415.0            제주대학교      33.459893   \n",
       "3   남국원(아라방면)             06시     578.0  제주여자중고등학교(아라방면)      33.484860   \n",
       "4         도호동             07시     374.0              은남동      33.485822   \n",
       "\n",
       "   next_longitude  next_arrive_time  \n",
       "0      126.554014                24  \n",
       "1      126.557353                36  \n",
       "2      126.561624                40  \n",
       "3      126.542928                42  \n",
       "4      126.490897                64  "
      ]
     },
     "execution_count": 13,
     "metadata": {},
     "output_type": "execute_result"
    }
   ],
   "source": [
    "train.head()"
   ]
  },
  {
   "cell_type": "code",
   "execution_count": 14,
   "metadata": {},
   "outputs": [
    {
     "data": {
      "text/plain": [
       "id                  0\n",
       "date                0\n",
       "route_id            0\n",
       "vh_id               0\n",
       "route_nm            0\n",
       "now_latitude        0\n",
       "now_longitude       0\n",
       "now_station         0\n",
       "now_arrive_time     0\n",
       "distance            0\n",
       "next_station        0\n",
       "next_latitude       0\n",
       "next_longitude      0\n",
       "next_arrive_time    0\n",
       "dtype: int64"
      ]
     },
     "execution_count": 14,
     "metadata": {},
     "output_type": "execute_result"
    }
   ],
   "source": [
    "# null 값 확인\n",
    "train.isnull().sum()"
   ]
  },
  {
   "cell_type": "code",
   "execution_count": 15,
   "metadata": {},
   "outputs": [
    {
     "data": {
      "text/plain": [
       "id                 0\n",
       "date               0\n",
       "route_id           0\n",
       "vh_id              0\n",
       "route_nm           0\n",
       "now_latitude       0\n",
       "now_longitude      0\n",
       "now_station        0\n",
       "now_arrive_time    0\n",
       "distance           0\n",
       "next_station       0\n",
       "next_latitude      0\n",
       "next_longitude     0\n",
       "dtype: int64"
      ]
     },
     "execution_count": 15,
     "metadata": {},
     "output_type": "execute_result"
    }
   ],
   "source": [
    "test.isnull().sum()"
   ]
  },
  {
   "cell_type": "code",
   "execution_count": 16,
   "metadata": {},
   "outputs": [],
   "source": [
    "train['date'] = pd.to_datetime(train['date'])"
   ]
  },
  {
   "cell_type": "code",
   "execution_count": 17,
   "metadata": {},
   "outputs": [
    {
     "name": "stdout",
     "output_type": "stream",
     "text": [
      "<class 'pandas.core.frame.DataFrame'>\n",
      "RangeIndex: 210457 entries, 0 to 210456\n",
      "Data columns (total 14 columns):\n",
      " #   Column            Non-Null Count   Dtype         \n",
      "---  ------            --------------   -----         \n",
      " 0   id                210457 non-null  int64         \n",
      " 1   date              210457 non-null  datetime64[ns]\n",
      " 2   route_id          210457 non-null  int64         \n",
      " 3   vh_id             210457 non-null  int64         \n",
      " 4   route_nm          210457 non-null  object        \n",
      " 5   now_latitude      210457 non-null  float64       \n",
      " 6   now_longitude     210457 non-null  float64       \n",
      " 7   now_station       210457 non-null  object        \n",
      " 8   now_arrive_time   210457 non-null  object        \n",
      " 9   distance          210457 non-null  float64       \n",
      " 10  next_station      210457 non-null  object        \n",
      " 11  next_latitude     210457 non-null  float64       \n",
      " 12  next_longitude    210457 non-null  float64       \n",
      " 13  next_arrive_time  210457 non-null  int64         \n",
      "dtypes: datetime64[ns](1), float64(5), int64(4), object(4)\n",
      "memory usage: 22.5+ MB\n"
     ]
    }
   ],
   "source": [
    "train.info()"
   ]
  },
  {
   "attachments": {},
   "cell_type": "markdown",
   "metadata": {},
   "source": [
    "### X, Y 설정"
   ]
  },
  {
   "cell_type": "code",
   "execution_count": 33,
   "metadata": {},
   "outputs": [
    {
     "data": {
      "text/plain": [
       "0    24\n",
       "1    36\n",
       "2    40\n",
       "3    42\n",
       "4    64\n",
       "Name: next_arrive_time, dtype: int64"
      ]
     },
     "execution_count": 33,
     "metadata": {},
     "output_type": "execute_result"
    }
   ],
   "source": [
    "# 예측할 변수 y 할당\n",
    "y = train['next_arrive_time']\n",
    "\n",
    "# y 데이터를 다시 살펴봅니다.\n",
    "y.head()"
   ]
  },
  {
   "cell_type": "code",
   "execution_count": 34,
   "metadata": {},
   "outputs": [],
   "source": [
    "# 학습에 사용할 변수 X 할당\n",
    "X = train.loc[:,['route_id', 'vh_id','now_latitude', 'now_longitude','distance','next_latitude'\n",
    ",'next_longitude']]"
   ]
  },
  {
   "attachments": {},
   "cell_type": "markdown",
   "metadata": {},
   "source": [
    "### train_test_split(validation data)"
   ]
  },
  {
   "cell_type": "code",
   "execution_count": 35,
   "metadata": {},
   "outputs": [
    {
     "name": "stdout",
     "output_type": "stream",
     "text": [
      "['__SKLEARN_SETUP__', '__all__', '__builtins__', '__cached__', '__check_build', '__doc__', '__file__', '__loader__', '__name__', '__package__', '__path__', '__spec__', '__version__', '_config', '_distributor_init', '_loss', 'base', 'clone', 'config_context', 'decomposition', 'dummy', 'ensemble', 'exceptions', 'externals', 'get_config', 'linear_model', 'logger', 'logging', 'metrics', 'model_selection', 'neighbors', 'os', 'preprocessing', 'random', 'set_config', 'setup_module', 'show_versions', 'svm', 'sys', 'tree', 'utils']\n"
     ]
    }
   ],
   "source": [
    "import sklearn\n",
    "print(dir(sklearn))"
   ]
  },
  {
   "cell_type": "code",
   "execution_count": 42,
   "metadata": {},
   "outputs": [],
   "source": [
    "from sklearn.model_selection import train_test_split\n",
    "\n",
    "X_train, X_test, y_train, y_test = train_test_split(X, y, test_size=0.2, random_state=226)"
   ]
  },
  {
   "cell_type": "code",
   "execution_count": 43,
   "metadata": {},
   "outputs": [
    {
     "data": {
      "text/plain": [
       "(168365, 7)"
      ]
     },
     "metadata": {},
     "output_type": "display_data"
    },
    {
     "data": {
      "text/plain": [
       "(168365,)"
      ]
     },
     "metadata": {},
     "output_type": "display_data"
    },
    {
     "data": {
      "text/plain": [
       "(42092, 7)"
      ]
     },
     "metadata": {},
     "output_type": "display_data"
    },
    {
     "data": {
      "text/plain": [
       "(42092,)"
      ]
     },
     "metadata": {},
     "output_type": "display_data"
    }
   ],
   "source": [
    "display(X_train.shape)\n",
    "display(y_train.shape)\n",
    "display(X_test.shape)\n",
    "display(y_test.shape)"
   ]
  },
  {
   "attachments": {},
   "cell_type": "markdown",
   "metadata": {},
   "source": [
    "### 모델 선택"
   ]
  },
  {
   "cell_type": "code",
   "execution_count": 37,
   "metadata": {},
   "outputs": [],
   "source": [
    "from sklearn.linear_model import LinearRegression\n",
    "\n",
    "# 모델 선언(선택)\n",
    "model = LinearRegression()"
   ]
  },
  {
   "cell_type": "code",
   "execution_count": 38,
   "metadata": {},
   "outputs": [],
   "source": [
    "from sklearn.ensemble import RandomForestRegressor\n",
    "\n",
    "# 모델 선언(선택)\n",
    "rf = RandomForestRegressor()"
   ]
  },
  {
   "attachments": {},
   "cell_type": "markdown",
   "metadata": {},
   "source": [
    "### 모델 학습"
   ]
  },
  {
   "cell_type": "code",
   "execution_count": 44,
   "metadata": {},
   "outputs": [
    {
     "data": {
      "text/plain": [
       "LinearRegression()"
      ]
     },
     "execution_count": 44,
     "metadata": {},
     "output_type": "execute_result"
    }
   ],
   "source": [
    "model.fit(X_train, y_train)"
   ]
  },
  {
   "cell_type": "code",
   "execution_count": 45,
   "metadata": {},
   "outputs": [
    {
     "data": {
      "text/plain": [
       "RandomForestRegressor()"
      ]
     },
     "execution_count": 45,
     "metadata": {},
     "output_type": "execute_result"
    }
   ],
   "source": [
    "rf.fit(X_train, y_train)"
   ]
  },
  {
   "cell_type": "code",
   "execution_count": 25,
   "metadata": {},
   "outputs": [],
   "source": [
    "# 학습에 사용할 변수 X 할당\n",
    "test = test.loc[:,['route_id', 'vh_id','now_latitude', 'now_longitude','distance','next_latitude'\n",
    ",'next_longitude']]"
   ]
  },
  {
   "attachments": {},
   "cell_type": "markdown",
   "metadata": {},
   "source": [
    "### 모델 예측"
   ]
  },
  {
   "cell_type": "code",
   "execution_count": 26,
   "metadata": {},
   "outputs": [
    {
     "name": "stdout",
     "output_type": "stream",
     "text": [
      "----------------------예측된 데이터의 상위 10개의 값 확인--------------------\n",
      "\n",
      "[ 92.66649251  98.78463578 102.78176251  96.74400871 112.2419948\n",
      "  86.04020727  97.1345351   86.18396251  96.50596488  93.69804427]\n"
     ]
    }
   ],
   "source": [
    "# 학습된 모델을 이용해 결괏값 예측 후 상위 10개의 값 확인\n",
    "predict = model.predict(test)\n",
    "print('----------------------예측된 데이터의 상위 10개의 값 확인--------------------\\n')\n",
    "print(predict[:10])"
   ]
  },
  {
   "attachments": {},
   "cell_type": "markdown",
   "metadata": {},
   "source": [
    "### 모델 검증"
   ]
  },
  {
   "cell_type": "code",
   "execution_count": 46,
   "metadata": {},
   "outputs": [],
   "source": [
    "pred1 = model.predict(X_test)\n",
    "pred2 = rf.predict(X_test)"
   ]
  },
  {
   "cell_type": "code",
   "execution_count": 48,
   "metadata": {},
   "outputs": [
    {
     "data": {
      "text/plain": [
       "0.2223613616585257"
      ]
     },
     "execution_count": 48,
     "metadata": {},
     "output_type": "execute_result"
    }
   ],
   "source": [
    "from sklearn.metrics import r2_score\n",
    "\n",
    "r2_score(y_test, pred1)"
   ]
  },
  {
   "cell_type": "code",
   "execution_count": 49,
   "metadata": {},
   "outputs": [
    {
     "data": {
      "text/plain": [
       "0.5256533206784649"
      ]
     },
     "execution_count": 49,
     "metadata": {},
     "output_type": "execute_result"
    }
   ],
   "source": [
    "r2_score(y_test, pred2)"
   ]
  },
  {
   "cell_type": "code",
   "execution_count": null,
   "metadata": {},
   "outputs": [],
   "source": []
  }
 ],
 "metadata": {
  "kernelspec": {
   "display_name": "base",
   "language": "python",
   "name": "python3"
  },
  "language_info": {
   "codemirror_mode": {
    "name": "ipython",
    "version": 3
   },
   "file_extension": ".py",
   "mimetype": "text/x-python",
   "name": "python",
   "nbconvert_exporter": "python",
   "pygments_lexer": "ipython3",
   "version": "3.9.12"
  },
  "orig_nbformat": 4
 },
 "nbformat": 4,
 "nbformat_minor": 2
}
