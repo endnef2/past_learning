{
 "cells": [
  {
   "cell_type": "markdown",
   "metadata": {},
   "source": [
    "# 두 개 뽑아서 더하기\n",
    "## https://programmers.co.kr/learn/courses/30/lessons/68644"
   ]
  },
  {
   "cell_type": "code",
   "execution_count": 21,
   "metadata": {},
   "outputs": [],
   "source": [
    "def solution(numbers):\n",
    "    answer = []\n",
    "    i = 0\n",
    "    for i in range(0, len(numbers)):\n",
    "        for j in range(i+1, len(numbers)):\n",
    "            answer += [int(numbers[i]) + int(numbers[j])]\n",
    "            print(answer)\n",
    "    return sorted(list(set(answer)))"
   ]
  },
  {
   "cell_type": "code",
   "execution_count": 25,
   "metadata": {},
   "outputs": [],
   "source": [
    "# set : 집합선언, 중복된 값은 자동으로 중복이 제거됨\n",
    "def solution(numbers):\n",
    "    answer = []\n",
    "    for i in numbers:\n",
    "        for j in numbers[i:]:\n",
    "            answer.append(i+j)\n",
    "    return sorted(set(answer))"
   ]
  },
  {
   "cell_type": "code",
   "execution_count": 24,
   "metadata": {},
   "outputs": [
    {
     "data": {
      "text/plain": [
       "[2, 3, 4, 5, 6, 7]"
      ]
     },
     "execution_count": 24,
     "metadata": {},
     "output_type": "execute_result"
    }
   ],
   "source": [
    "numbers = [2,1,3,4,1]\n",
    "solution(numbers)"
   ]
  },
  {
   "cell_type": "code",
   "execution_count": 7,
   "metadata": {},
   "outputs": [],
   "source": [
    "numbers = [2,1,3,4,1]"
   ]
  },
  {
   "cell_type": "code",
   "execution_count": 8,
   "metadata": {},
   "outputs": [
    {
     "data": {
      "text/plain": [
       "[1, 3, 4, 1]"
      ]
     },
     "execution_count": 8,
     "metadata": {},
     "output_type": "execute_result"
    }
   ],
   "source": [
    "numbers[1:]"
   ]
  },
  {
   "cell_type": "code",
   "execution_count": null,
   "metadata": {},
   "outputs": [],
   "source": [
    "def solution(numbers):\n",
    "    answer = []\n",
    "    i = 0\n",
    "    for i in range(i, len(numbers)):\n",
    "        for j in range(i+1, len(numbers)):\n",
    "            answer += [int(numbers[i]) + int(numbers[j])]\n",
    "    return sorted(list(set(answer)))"
   ]
  }
 ],
 "metadata": {
  "kernelspec": {
   "display_name": "Python 3",
   "language": "python",
   "name": "python3"
  },
  "language_info": {
   "codemirror_mode": {
    "name": "ipython",
    "version": 3
   },
   "file_extension": ".py",
   "mimetype": "text/x-python",
   "name": "python",
   "nbconvert_exporter": "python",
   "pygments_lexer": "ipython3",
   "version": "3.8.5"
  }
 },
 "nbformat": 4,
 "nbformat_minor": 4
}
