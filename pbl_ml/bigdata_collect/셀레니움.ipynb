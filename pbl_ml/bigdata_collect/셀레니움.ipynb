{
 "cells": [
  {
   "cell_type": "code",
   "execution_count": 1,
   "metadata": {},
   "outputs": [
    {
     "name": "stdout",
     "output_type": "stream",
     "text": [
      "Collecting selenium\n",
      "  Downloading selenium-3.141.0-py2.py3-none-any.whl (904 kB)\n",
      "Requirement already satisfied: urllib3 in c:\\users\\admin\\anaconda3\\lib\\site-packages (from selenium) (1.25.11)\n",
      "Installing collected packages: selenium\n",
      "Successfully installed selenium-3.141.0\n"
     ]
    }
   ],
   "source": [
    "! pip install selenium"
   ]
  },
  {
   "cell_type": "code",
   "execution_count": 2,
   "metadata": {},
   "outputs": [],
   "source": [
    "from selenium import webdriver"
   ]
  },
  {
   "cell_type": "code",
   "execution_count": 4,
   "metadata": {},
   "outputs": [
    {
     "data": {
      "text/plain": [
       "<selenium.webdriver.chrome.webdriver.WebDriver (session=\"3105bd3636bcfd38840843c31175badd\")>"
      ]
     },
     "execution_count": 4,
     "metadata": {},
     "output_type": "execute_result"
    }
   ],
   "source": [
    "webdriver.Chrome(executable_path= \"chromedriver.exe\")"
   ]
  },
  {
   "cell_type": "code",
   "execution_count": 5,
   "metadata": {},
   "outputs": [],
   "source": [
    "from selenium import webdriver as wd"
   ]
  },
  {
   "cell_type": "code",
   "execution_count": 6,
   "metadata": {},
   "outputs": [],
   "source": [
    "driver = webdriver.Chrome(executable_path= \"chromedriver.exe\")"
   ]
  },
  {
   "cell_type": "code",
   "execution_count": 7,
   "metadata": {},
   "outputs": [],
   "source": [
    "driver.get(\"http://www.naver.com\")"
   ]
  },
  {
   "cell_type": "code",
   "execution_count": 8,
   "metadata": {},
   "outputs": [
    {
     "data": {
      "text/plain": [
       "<selenium.webdriver.remote.webelement.WebElement (session=\"792b9dc9231b2ab9ed7683c7010228e6\", element=\"3766560b-15e3-476c-937f-d87cb7f5c804\")>"
      ]
     },
     "execution_count": 8,
     "metadata": {},
     "output_type": "execute_result"
    }
   ],
   "source": [
    "driver.find_element_by_id(\"query\")"
   ]
  },
  {
   "cell_type": "code",
   "execution_count": 9,
   "metadata": {},
   "outputs": [],
   "source": [
    "driver.find_element_by_id(\"query\").send_keys(\"윤여정\")"
   ]
  },
  {
   "cell_type": "code",
   "execution_count": 12,
   "metadata": {},
   "outputs": [],
   "source": [
    "driver.find_element_by_id(\"search_btn\").click()"
   ]
  },
  {
   "cell_type": "code",
   "execution_count": 21,
   "metadata": {},
   "outputs": [],
   "source": [
    "driver.get(\"http://tour.interpark.com\")"
   ]
  },
  {
   "cell_type": "code",
   "execution_count": 22,
   "metadata": {},
   "outputs": [
    {
     "data": {
      "text/plain": [
       "<selenium.webdriver.remote.webelement.WebElement (session=\"792b9dc9231b2ab9ed7683c7010228e6\", element=\"f77a7824-789f-499c-bf41-2ba6fec284d2\")>"
      ]
     },
     "execution_count": 22,
     "metadata": {},
     "output_type": "execute_result"
    }
   ],
   "source": [
    "# 대소문자 같아야함\n",
    "driver.find_element_by_id(\"SearchGNBText\")"
   ]
  },
  {
   "cell_type": "code",
   "execution_count": 40,
   "metadata": {},
   "outputs": [],
   "source": [
    "driver.find_element_by_id(\"SearchGNBText\").send_keys(\"스위스\")"
   ]
  },
  {
   "cell_type": "code",
   "execution_count": 41,
   "metadata": {},
   "outputs": [
    {
     "data": {
      "text/plain": [
       "<selenium.webdriver.remote.webelement.WebElement (session=\"792b9dc9231b2ab9ed7683c7010228e6\", element=\"c77ec108-7acd-44f6-86b4-147821529a19\")>"
      ]
     },
     "execution_count": 41,
     "metadata": {},
     "output_type": "execute_result"
    }
   ],
   "source": [
    "driver.find_element_by_class_name(\"search-btn\")"
   ]
  },
  {
   "cell_type": "code",
   "execution_count": 42,
   "metadata": {},
   "outputs": [],
   "source": [
    "driver.implicitly_wait(10)"
   ]
  },
  {
   "cell_type": "code",
   "execution_count": 43,
   "metadata": {},
   "outputs": [],
   "source": [
    "driver.find_element_by_class_name(\"search-btn\").click()"
   ]
  },
  {
   "cell_type": "code",
   "execution_count": 44,
   "metadata": {},
   "outputs": [],
   "source": [
    "driver.find_element_by_id(\"li_R\").click()"
   ]
  },
  {
   "cell_type": "code",
   "execution_count": 50,
   "metadata": {},
   "outputs": [
    {
     "name": "stdout",
     "output_type": "stream",
     "text": [
      "1번째 페이지 가요\n",
      "2번째 페이지 가요\n",
      "3번째 페이지 가요\n",
      "4번째 페이지 가요\n",
      "5번째 페이지 가요\n",
      "6번째 페이지 가요\n",
      "7번째 페이지 가요\n"
     ]
    }
   ],
   "source": [
    "import time\n",
    "for page in range(1, 8):\n",
    "    driver.execute_script(\n",
    "        \"searchModule.SetCategoryList({}, '')\".format(page)\n",
    "    )\n",
    "    time.sleep(3)\n",
    "    print(str(page) + \"번째 페이지 가요\")"
   ]
  },
  {
   "cell_type": "code",
   "execution_count": 58,
   "metadata": {},
   "outputs": [
    {
     "name": "stdout",
     "output_type": "stream",
     "text": [
      "1번째 페이지 가요\n",
      "li.find_element_by_css_selector(\"h5.proTit\") = <selenium.webdriver.remote.webelement.WebElement (session=\"792b9dc9231b2ab9ed7683c7010228e6\", element=\"40bd9b1c-c5dd-4fe3-834b-1f32d7c80d25\")>\n",
      "li.find_element_by_css_selector(\"h5.proTit\").text = [스위스/이태리 9일] 1급호텔+체르마트+융프라우+툰호수\n",
      "li.find_element_by_css_selector(\"h5.proTit\") = <selenium.webdriver.remote.webelement.WebElement (session=\"792b9dc9231b2ab9ed7683c7010228e6\", element=\"728c47c9-ba80-4cf3-84b0-1491ffa4b2ee\")>\n",
      "li.find_element_by_css_selector(\"h5.proTit\").text = [스위스/이태리9일] 1급UP! 리기정상식+몽트뢰/프라이부르크\n",
      "li.find_element_by_css_selector(\"h5.proTit\") = <selenium.webdriver.remote.webelement.WebElement (session=\"792b9dc9231b2ab9ed7683c7010228e6\", element=\"524b0559-aaf1-4cf1-9113-67169fe4fbf4\")>\n",
      "li.find_element_by_css_selector(\"h5.proTit\").text = [스위스/동유럽 5국8일] 스트라스부르+홀딱반해버린_OZ\n",
      "li.find_element_by_css_selector(\"h5.proTit\") = <selenium.webdriver.remote.webelement.WebElement (session=\"792b9dc9231b2ab9ed7683c7010228e6\", element=\"1eba6bd3-f0ea-4564-8bf3-a09168825c2d\")>\n",
      "li.find_element_by_css_selector(\"h5.proTit\").text = [서유럽 4국 12일] 이탈리아 완전일주+루체른/베른\n",
      "li.find_element_by_css_selector(\"h5.proTit\") = <selenium.webdriver.remote.webelement.WebElement (session=\"792b9dc9231b2ab9ed7683c7010228e6\", element=\"e69e0845-5fcb-4485-a78c-5e7302bb14cb\")>\n",
      "li.find_element_by_css_selector(\"h5.proTit\").text = [서유럽 3국 9일] 융프라우+리기산+스위스집중투어\n",
      "li.find_element_by_css_selector(\"h5.proTit\") = <selenium.webdriver.remote.webelement.WebElement (session=\"792b9dc9231b2ab9ed7683c7010228e6\", element=\"a8867dd4-def2-49fe-ae47-6494a1e88d9b\")>\n",
      "li.find_element_by_css_selector(\"h5.proTit\").text = [♥프랑스/스위스/이탈리아/오스트리아/독일 10일]\n",
      "li.find_element_by_css_selector(\"h5.proTit\") = <selenium.webdriver.remote.webelement.WebElement (session=\"792b9dc9231b2ab9ed7683c7010228e6\", element=\"5c743def-65d7-4510-954a-4f6ee9706b7c\")>\n",
      "li.find_element_by_css_selector(\"h5.proTit\").text = [스위스/이태리9일]1급호텔+융프라우+정상식사\n",
      "li.find_element_by_css_selector(\"h5.proTit\") = <selenium.webdriver.remote.webelement.WebElement (session=\"792b9dc9231b2ab9ed7683c7010228e6\", element=\"83121b63-3b95-4321-9a62-a5cbdab8d011\")>\n",
      "li.find_element_by_css_selector(\"h5.proTit\").text = [맞춤 여행]스위스/독일 자유 맞춤 견적 문의\n",
      "li.find_element_by_css_selector(\"h5.proTit\") = <selenium.webdriver.remote.webelement.WebElement (session=\"792b9dc9231b2ab9ed7683c7010228e6\", element=\"38f9718d-33a5-4720-8b9e-f5468cd5b278\")>\n",
      "li.find_element_by_css_selector(\"h5.proTit\").text = [프랑스/스위스 10일]몽생미셸_융프라우_몽트뢰\n",
      "li.find_element_by_css_selector(\"h5.proTit\") = <selenium.webdriver.remote.webelement.WebElement (session=\"792b9dc9231b2ab9ed7683c7010228e6\", element=\"5915fbe6-aa5f-4850-883f-b884837906fb\")>\n",
      "li.find_element_by_css_selector(\"h5.proTit\").text = [서유럽 5국 12일] 스트라스부르/베른+융프라우\n",
      "====================================================================================================\n",
      "2번째 페이지 가요\n",
      "li.find_element_by_css_selector(\"h5.proTit\") = <selenium.webdriver.remote.webelement.WebElement (session=\"792b9dc9231b2ab9ed7683c7010228e6\", element=\"efeffe6e-612e-4307-9f0a-374a0e3a0599\")>\n",
      "li.find_element_by_css_selector(\"h5.proTit\").text = [청정스위스 9일] 더힐링타임_쉴트호른+체르마트+루체른_전일정 1급 호텔\n",
      "li.find_element_by_css_selector(\"h5.proTit\") = <selenium.webdriver.remote.webelement.WebElement (session=\"792b9dc9231b2ab9ed7683c7010228e6\", element=\"1c455e95-e55c-4038-84fb-bf3c30076812\")>\n",
      "li.find_element_by_css_selector(\"h5.proTit\").text = [몽트뢰 재즈페스티벌_프랑스/스위스 10일] 베르니나 특급열차+휘르스트+샹티이\n",
      "li.find_element_by_css_selector(\"h5.proTit\") = <selenium.webdriver.remote.webelement.WebElement (session=\"792b9dc9231b2ab9ed7683c7010228e6\", element=\"13182478-d6a2-44df-ab69-dece6a0398e3\")>\n",
      "li.find_element_by_css_selector(\"h5.proTit\").text = [스위스트레킹①]융프라우_아이거 워크+인터라켄 자유1DAY_이젤발트 9일\n",
      "li.find_element_by_css_selector(\"h5.proTit\") = <selenium.webdriver.remote.webelement.WebElement (session=\"792b9dc9231b2ab9ed7683c7010228e6\", element=\"2b192bfb-9db9-48b5-974e-bd868be3e29a\")>\n",
      "li.find_element_by_css_selector(\"h5.proTit\").text = [소그룹_스위스/이탈리아 9일] 체르마트+융프라우+툰호수+샤프하우젠\n",
      "li.find_element_by_css_selector(\"h5.proTit\") = <selenium.webdriver.remote.webelement.WebElement (session=\"792b9dc9231b2ab9ed7683c7010228e6\", element=\"b4011ae8-9f30-4e34-9300-435d96e6dd89\")>\n",
      "li.find_element_by_css_selector(\"h5.proTit\").text = [안심여행_스위스/이탈리아/독일 9일] 몽트뢰+프라이부르크_리기 정상식/1급호텔UP\n",
      "li.find_element_by_css_selector(\"h5.proTit\") = <selenium.webdriver.remote.webelement.WebElement (session=\"792b9dc9231b2ab9ed7683c7010228e6\", element=\"9fc32690-a313-446d-a350-290d55f8ee6b\")>\n",
      "li.find_element_by_css_selector(\"h5.proTit\").text = [소그룹_서유럽 3국9일] 스위스 2대알프스_10대특식\n",
      "li.find_element_by_css_selector(\"h5.proTit\") = <selenium.webdriver.remote.webelement.WebElement (session=\"792b9dc9231b2ab9ed7683c7010228e6\", element=\"d60ffb23-219c-466a-a055-cc5920e37cc3\")>\n",
      "li.find_element_by_css_selector(\"h5.proTit\").text = [안심여행_스위스 8일] 체르마트+융프라우+라인폭포\n",
      "li.find_element_by_css_selector(\"h5.proTit\") = <selenium.webdriver.remote.webelement.WebElement (session=\"792b9dc9231b2ab9ed7683c7010228e6\", element=\"2650b5d7-c14f-4256-8202-8c3ad537208b\")>\n",
      "li.find_element_by_css_selector(\"h5.proTit\").text = [얼리버드_4국10일]루체른&융프라우_런던&로마 야간\n",
      "li.find_element_by_css_selector(\"h5.proTit\") = <selenium.webdriver.remote.webelement.WebElement (session=\"792b9dc9231b2ab9ed7683c7010228e6\", element=\"45d1f99d-ffb7-44e3-81a6-0677fed9987b\")>\n",
      "li.find_element_by_css_selector(\"h5.proTit\").text = [얼리버드_스위스/이태리9일]1급_리기산 정상식사_몽트뢰\n",
      "li.find_element_by_css_selector(\"h5.proTit\") = <selenium.webdriver.remote.webelement.WebElement (session=\"792b9dc9231b2ab9ed7683c7010228e6\", element=\"267b98ee-a62b-471a-82f0-5592761b0e7a\")>\n",
      "li.find_element_by_css_selector(\"h5.proTit\").text = [얼리버드_스위스/이태리9일]체르마트_융프라우_유람선\n",
      "====================================================================================================\n",
      "3번째 페이지 가요\n",
      "li.find_element_by_css_selector(\"h5.proTit\") = <selenium.webdriver.remote.webelement.WebElement (session=\"792b9dc9231b2ab9ed7683c7010228e6\", element=\"cc3ba2ff-0cbc-4966-a116-871e92f39529\")>\n",
      "li.find_element_by_css_selector(\"h5.proTit\").text = [얼리버드_4국10일]1급호텔_융프라우&루체른_피사\n",
      "li.find_element_by_css_selector(\"h5.proTit\") = <selenium.webdriver.remote.webelement.WebElement (session=\"792b9dc9231b2ab9ed7683c7010228e6\", element=\"956b0654-de7a-4eaf-bb94-367b5188d19b\")>\n",
      "li.find_element_by_css_selector(\"h5.proTit\").text = [얼리버드_스위스일주 8일] 체르마트&융프라우_라인폭포\n",
      "li.find_element_by_css_selector(\"h5.proTit\") = <selenium.webdriver.remote.webelement.WebElement (session=\"792b9dc9231b2ab9ed7683c7010228e6\", element=\"316765c4-e6ac-48ab-9490-50431d94699d\")>\n",
      "li.find_element_by_css_selector(\"h5.proTit\").text = [프랑스/스위스/독일 10일] 시즌2. 오직 8-11월까지 여행_베르동협곡+노옵션/노쇼핑\n",
      "li.find_element_by_css_selector(\"h5.proTit\") = <selenium.webdriver.remote.webelement.WebElement (session=\"792b9dc9231b2ab9ed7683c7010228e6\", element=\"0db45e49-d789-4711-bd40-d2e0164f1cbc\")>\n",
      "li.find_element_by_css_selector(\"h5.proTit\").text = [스위스/이태리9일]은하수_체르마트 숙박_수네가 2대 호수\n",
      "li.find_element_by_css_selector(\"h5.proTit\") = <selenium.webdriver.remote.webelement.WebElement (session=\"792b9dc9231b2ab9ed7683c7010228e6\", element=\"6871fc0f-bd5c-41a7-8e91-d5fbd4ff6cad\")>\n",
      "li.find_element_by_css_selector(\"h5.proTit\").text = [정통_4국10일]1급호텔_융프라우&루체른_피사_아시아나\n",
      "li.find_element_by_css_selector(\"h5.proTit\") = <selenium.webdriver.remote.webelement.WebElement (session=\"792b9dc9231b2ab9ed7683c7010228e6\", element=\"88186292-62be-4468-b54d-e7d458bfe326\")>\n",
      "li.find_element_by_css_selector(\"h5.proTit\").text = [스위스/프랑스10일] 생모리츠_베르니나 특급열차/샹티이\n",
      "li.find_element_by_css_selector(\"h5.proTit\") = <selenium.webdriver.remote.webelement.WebElement (session=\"792b9dc9231b2ab9ed7683c7010228e6\", element=\"c75d6342-7983-4c93-80ce-4db722ce7a34\")>\n",
      "li.find_element_by_css_selector(\"h5.proTit\").text = [스위스일주 8일] 체르마트&융프라우_라인폭포_몽트뢰\n",
      "li.find_element_by_css_selector(\"h5.proTit\") = <selenium.webdriver.remote.webelement.WebElement (session=\"792b9dc9231b2ab9ed7683c7010228e6\", element=\"55e8f704-15f8-45dd-b696-3e9165688bf4\")>\n",
      "li.find_element_by_css_selector(\"h5.proTit\").text = [서유럽+동유럽 5국10일] 루체른+리기_프라하야경투어\n",
      "li.find_element_by_css_selector(\"h5.proTit\") = <selenium.webdriver.remote.webelement.WebElement (session=\"792b9dc9231b2ab9ed7683c7010228e6\", element=\"18f125da-9c27-49e4-a6cf-4e5274a6807d\")>\n",
      "li.find_element_by_css_selector(\"h5.proTit\").text = [서유럽 3국 9일] 루체른+베른+융프라우_스위스2DAY\n",
      "li.find_element_by_css_selector(\"h5.proTit\") = <selenium.webdriver.remote.webelement.WebElement (session=\"792b9dc9231b2ab9ed7683c7010228e6\", element=\"e7384a8f-8e8d-46aa-b8c2-10799502b3b7\")>\n",
      "li.find_element_by_css_selector(\"h5.proTit\").text = [스위스/이태리9일]미켈란젤로언덕♡준특급호텔숙박\n",
      "====================================================================================================\n"
     ]
    },
    {
     "name": "stdout",
     "output_type": "stream",
     "text": [
      "4번째 페이지 가요\n",
      "li.find_element_by_css_selector(\"h5.proTit\") = <selenium.webdriver.remote.webelement.WebElement (session=\"792b9dc9231b2ab9ed7683c7010228e6\", element=\"30846cd2-8008-4aec-b2bc-bb1c2c12b090\")>\n",
      "li.find_element_by_css_selector(\"h5.proTit\").text = [동유럽/스위스 5국9일] 루체른+스트라스부르+콜마르_직항\n",
      "li.find_element_by_css_selector(\"h5.proTit\") = <selenium.webdriver.remote.webelement.WebElement (session=\"792b9dc9231b2ab9ed7683c7010228e6\", element=\"6410dab8-207f-42bd-a492-64094397f2bf\")>\n",
      "li.find_element_by_css_selector(\"h5.proTit\").text = [프랑스/스위스/독일 10일] 시즌1. 오직 6-8월 여행_라벤더프랑스+노옵션/노쇼핑\n",
      "li.find_element_by_css_selector(\"h5.proTit\") = <selenium.webdriver.remote.webelement.WebElement (session=\"792b9dc9231b2ab9ed7683c7010228e6\", element=\"efa90d02-544a-4689-a0eb-78fda731d365\")>\n",
      "li.find_element_by_css_selector(\"h5.proTit\").text = [서유럽 3국 9일] 융프라우/바티칸하이패스_아시아나\n",
      "li.find_element_by_css_selector(\"h5.proTit\") = <selenium.webdriver.remote.webelement.WebElement (session=\"792b9dc9231b2ab9ed7683c7010228e6\", element=\"c0adf675-5250-43fa-99c5-5643d2d915e5\")>\n",
      "li.find_element_by_css_selector(\"h5.proTit\").text = [서유럽 6국 12일] 뮈렌/베르사유/3대박물관\n",
      "li.find_element_by_css_selector(\"h5.proTit\") = <selenium.webdriver.remote.webelement.WebElement (session=\"792b9dc9231b2ab9ed7683c7010228e6\", element=\"a9317c04-631c-4923-a7f3-7311ce129030\")>\n",
      "li.find_element_by_css_selector(\"h5.proTit\").text = [서유럽 6국 12일] 바티칸하이패스+특식+호텔UP!\n",
      "li.find_element_by_css_selector(\"h5.proTit\") = <selenium.webdriver.remote.webelement.WebElement (session=\"792b9dc9231b2ab9ed7683c7010228e6\", element=\"a726b732-b44e-4807-95e3-d4814102e29b\")>\n",
      "li.find_element_by_css_selector(\"h5.proTit\").text = [서유럽 4국 12일] 융프라우VIP패스+남프랑스\n",
      "li.find_element_by_css_selector(\"h5.proTit\") = <selenium.webdriver.remote.webelement.WebElement (session=\"792b9dc9231b2ab9ed7683c7010228e6\", element=\"77a5542b-2952-4eb1-96b2-e5208a797799\")>\n",
      "li.find_element_by_css_selector(\"h5.proTit\").text = [서유럽 10국 16일] 하나도빠지지않는 완전일주+바티칸하이패스+뮈렌\n",
      "li.find_element_by_css_selector(\"h5.proTit\") = <selenium.webdriver.remote.webelement.WebElement (session=\"792b9dc9231b2ab9ed7683c7010228e6\", element=\"38a00395-5596-4d44-a024-c09ac0951f6b\")>\n",
      "li.find_element_by_css_selector(\"h5.proTit\").text = [서유럽 4국 12일] 1급UP! 모나코+융프라우 산악열차\n",
      "li.find_element_by_css_selector(\"h5.proTit\") = <selenium.webdriver.remote.webelement.WebElement (session=\"792b9dc9231b2ab9ed7683c7010228e6\", element=\"371e00ec-38e7-4ca4-b21e-2a87a6996316\")>\n",
      "li.find_element_by_css_selector(\"h5.proTit\").text = [서유럽4국10일]런던+옥스포드/윈저 내부관람+리기정상식\n",
      "li.find_element_by_css_selector(\"h5.proTit\") = <selenium.webdriver.remote.webelement.WebElement (session=\"792b9dc9231b2ab9ed7683c7010228e6\", element=\"1078daab-9408-4289-b7ef-52e2e4d8b1f3\")>\n",
      "li.find_element_by_css_selector(\"h5.proTit\").text = [4국10일_대한항공]1급_융프라우_런던&로마 야간투어\n",
      "====================================================================================================\n",
      "5번째 페이지 가요\n",
      "li.find_element_by_css_selector(\"h5.proTit\") = <selenium.webdriver.remote.webelement.WebElement (session=\"792b9dc9231b2ab9ed7683c7010228e6\", element=\"a7f90e9c-1910-419f-b005-81b8a7bd9ecf\")>\n",
      "li.find_element_by_css_selector(\"h5.proTit\").text = [맞춤 여행]서유럽 자유 여행 맞춤 견적 문의\n",
      "li.find_element_by_css_selector(\"h5.proTit\") = <selenium.webdriver.remote.webelement.WebElement (session=\"792b9dc9231b2ab9ed7683c7010228e6\", element=\"e7e61e69-789e-4e63-a00b-375ea4131b47\")>\n",
      "li.find_element_by_css_selector(\"h5.proTit\").text = [서유럽 4국 12일] 피렌체 더몰+옥스포드 2DAY\n",
      "li.find_element_by_css_selector(\"h5.proTit\") = <selenium.webdriver.remote.webelement.WebElement (session=\"792b9dc9231b2ab9ed7683c7010228e6\", element=\"76b13873-de1e-4a6e-9afd-43ad611aa937\")>\n",
      "li.find_element_by_css_selector(\"h5.proTit\").text = [서유럽 3국 9일] 뮈렌+베르사유+폼페이_아시아나직항\n",
      "li.find_element_by_css_selector(\"h5.proTit\") = <selenium.webdriver.remote.webelement.WebElement (session=\"792b9dc9231b2ab9ed7683c7010228e6\", element=\"be671cd8-be2c-4ca7-bed2-4d5b2983d9f1\")>\n",
      "li.find_element_by_css_selector(\"h5.proTit\").text = [서유럽 3국10일] 알자스마을+융프라우+호텔 UP\n",
      "li.find_element_by_css_selector(\"h5.proTit\") = <selenium.webdriver.remote.webelement.WebElement (session=\"792b9dc9231b2ab9ed7683c7010228e6\", element=\"d3e5e7c4-3b68-4e22-abeb-4d079b2cb9a2\")>\n",
      "li.find_element_by_css_selector(\"h5.proTit\").text = [맞춤 여행]로맨틱♡커플 강추 유럽 맞춤 견적 문의\n",
      "li.find_element_by_css_selector(\"h5.proTit\") = <selenium.webdriver.remote.webelement.WebElement (session=\"792b9dc9231b2ab9ed7683c7010228e6\", element=\"e9fadd3a-20fe-4665-9092-cbd74cb92620\")>\n",
      "li.find_element_by_css_selector(\"h5.proTit\").text = [소그룹_서유럽 4국10일] 런던&로마 야간투어+융프라우\n",
      "li.find_element_by_css_selector(\"h5.proTit\") = <selenium.webdriver.remote.webelement.WebElement (session=\"792b9dc9231b2ab9ed7683c7010228e6\", element=\"04653cca-492f-4868-989b-4695934a4321\")>\n",
      "li.find_element_by_css_selector(\"h5.proTit\").text = [소그룹_서유럽 4국12일] 융프라우 VIP패스_런던 2DAY\n",
      "li.find_element_by_css_selector(\"h5.proTit\") = <selenium.webdriver.remote.webelement.WebElement (session=\"792b9dc9231b2ab9ed7683c7010228e6\", element=\"1cf41a2b-05a3-4642-a172-49095faf6944\")>\n",
      "li.find_element_by_css_selector(\"h5.proTit\").text = [안심여행_서유럽 4국12일] 융프라우+이젤발트\n",
      "li.find_element_by_css_selector(\"h5.proTit\") = <selenium.webdriver.remote.webelement.WebElement (session=\"792b9dc9231b2ab9ed7683c7010228e6\", element=\"083bf5b7-f99a-4873-b664-b9c1461896e1\")>\n",
      "li.find_element_by_css_selector(\"h5.proTit\").text = [얼리버드_4국 12일] 유럽에 불시착_토스카나/이젤발트\n",
      "li.find_element_by_css_selector(\"h5.proTit\") = <selenium.webdriver.remote.webelement.WebElement (session=\"792b9dc9231b2ab9ed7683c7010228e6\", element=\"f205f3d2-4102-4567-93cc-dce58ac0d446\")>\n",
      "li.find_element_by_css_selector(\"h5.proTit\").text = [서유럽 4국 12일] 유럽에불시착_토스카나/이젤발트\n",
      "====================================================================================================\n",
      "6번째 페이지 가요\n",
      "li.find_element_by_css_selector(\"h5.proTit\") = <selenium.webdriver.remote.webelement.WebElement (session=\"792b9dc9231b2ab9ed7683c7010228e6\", element=\"e067ea15-e01d-4ab2-acd6-a735cad3044e\")>\n",
      "li.find_element_by_css_selector(\"h5.proTit\").text = [서유럽 3국 10일]알자스 마을+리기산+베르사유\n",
      "li.find_element_by_css_selector(\"h5.proTit\") = <selenium.webdriver.remote.webelement.WebElement (session=\"792b9dc9231b2ab9ed7683c7010228e6\", element=\"e3ed77bf-ec4d-459c-be78-de35a37005d6\")>\n",
      "li.find_element_by_css_selector(\"h5.proTit\").text = [4국12일]노팁/노옵션/노쇼핑_융프라우VIP패스+런던자유\n",
      "li.find_element_by_css_selector(\"h5.proTit\") = <selenium.webdriver.remote.webelement.WebElement (session=\"792b9dc9231b2ab9ed7683c7010228e6\", element=\"6fcd66d6-019a-47bc-a41e-db9b1e45ffbc\")>\n",
      "li.find_element_by_css_selector(\"h5.proTit\").text = [서유럽 3국 10일] ♥융프라우+리기산_로마야간투어\n",
      "li.find_element_by_css_selector(\"h5.proTit\") = <selenium.webdriver.remote.webelement.WebElement (session=\"792b9dc9231b2ab9ed7683c7010228e6\", element=\"825a80a3-acb7-4046-96d0-ad57acb669fe\")>\n",
      "li.find_element_by_css_selector(\"h5.proTit\").text = [서유럽 5국 12일] 이탈리아 남부1박_아말피/포지타노\n",
      "li.find_element_by_css_selector(\"h5.proTit\") = <selenium.webdriver.remote.webelement.WebElement (session=\"792b9dc9231b2ab9ed7683c7010228e6\", element=\"48085a2b-71c6-4ef4-a7f7-82ee0cdbdb77\")>\n",
      "li.find_element_by_css_selector(\"h5.proTit\").text = [서유럽 3국10일]남프랑스_니스+모나코/아말피+포지타노\n",
      "li.find_element_by_css_selector(\"h5.proTit\") = <selenium.webdriver.remote.webelement.WebElement (session=\"792b9dc9231b2ab9ed7683c7010228e6\", element=\"f0cff70f-372d-45e5-a98c-688f8d919f22\")>\n",
      "li.find_element_by_css_selector(\"h5.proTit\").text = [서유럽 10일]1급호텔_천공의 도시 치비타_융프라우_런던+로마야간\n",
      "li.find_element_by_css_selector(\"h5.proTit\") = <selenium.webdriver.remote.webelement.WebElement (session=\"792b9dc9231b2ab9ed7683c7010228e6\", element=\"7bd22807-734f-4dc7-a254-86832d5e85ed\")>\n",
      "li.find_element_by_css_selector(\"h5.proTit\").text = [얼리버드_서유럽4국12일] 융프라우 VIP패스 2DAY\n",
      "li.find_element_by_css_selector(\"h5.proTit\") = <selenium.webdriver.remote.webelement.WebElement (session=\"792b9dc9231b2ab9ed7683c7010228e6\", element=\"5aa38819-9c55-457d-b414-f8e238b6fe33\")>\n",
      "li.find_element_by_css_selector(\"h5.proTit\").text = [서유럽 7국 16일] 쁘티 프랑스+남프랑스_OZ\n",
      "li.find_element_by_css_selector(\"h5.proTit\") = <selenium.webdriver.remote.webelement.WebElement (session=\"792b9dc9231b2ab9ed7683c7010228e6\", element=\"ef3ef818-8b78-43d5-9fca-e7397c9a6743\")>\n",
      "li.find_element_by_css_selector(\"h5.proTit\").text = [서유럽 10국 16일] 알찬일주+융프라우+베르사유_직항\n",
      "li.find_element_by_css_selector(\"h5.proTit\") = <selenium.webdriver.remote.webelement.WebElement (session=\"792b9dc9231b2ab9ed7683c7010228e6\", element=\"79ca7872-8a2a-4cd0-80f1-d3b8132297ca\")>\n",
      "li.find_element_by_css_selector(\"h5.proTit\").text = [유럽/발칸12일]업계최초 작센스위스/7국12일_아시아나항공\n",
      "====================================================================================================\n"
     ]
    },
    {
     "name": "stdout",
     "output_type": "stream",
     "text": [
      "7번째 페이지 가요\n",
      "li.find_element_by_css_selector(\"h5.proTit\") = <selenium.webdriver.remote.webelement.WebElement (session=\"792b9dc9231b2ab9ed7683c7010228e6\", element=\"a7f803ea-9f21-4dee-82c5-63dd2026f8a5\")>\n",
      "li.find_element_by_css_selector(\"h5.proTit\").text = [동유럽/발칸 5국10일] 작센스위스 국립공원+아시아나\n",
      "li.find_element_by_css_selector(\"h5.proTit\") = <selenium.webdriver.remote.webelement.WebElement (session=\"792b9dc9231b2ab9ed7683c7010228e6\", element=\"3da19792-01cc-432c-9c83-bd41ed4867dd\")>\n",
      "li.find_element_by_css_selector(\"h5.proTit\").text = [발칸/동유럽12일]장기최다상품평+믿고 예약 가능_국적기\n",
      "li.find_element_by_css_selector(\"h5.proTit\") = <selenium.webdriver.remote.webelement.WebElement (session=\"792b9dc9231b2ab9ed7683c7010228e6\", element=\"16087451-e7b4-46f5-8892-73b38a03ebf8\")>\n",
      "li.find_element_by_css_selector(\"h5.proTit\").text = [발칸/동유럽12일]장기메인NO1+베를린+할슈타트+두브로브니크_국적기\n",
      "li.find_element_by_css_selector(\"h5.proTit\") = <selenium.webdriver.remote.webelement.WebElement (session=\"792b9dc9231b2ab9ed7683c7010228e6\", element=\"dae5a55f-2472-461f-b04d-76d569428b16\")>\n",
      "li.find_element_by_css_selector(\"h5.proTit\").text = [발칸/동유럽12일]로맨틱가도 로텐부르크/정통 동유럽발칸_아시아나\n",
      "li.find_element_by_css_selector(\"h5.proTit\") = <selenium.webdriver.remote.webelement.WebElement (session=\"792b9dc9231b2ab9ed7683c7010228e6\", element=\"1b565583-4976-4ab2-ae09-2d37cb90f48b\")>\n",
      "li.find_element_by_css_selector(\"h5.proTit\").text = [뮌헨/드레스덴/베를린7일]독일핵심도시 자유여행\n",
      "li.find_element_by_css_selector(\"h5.proTit\") = <selenium.webdriver.remote.webelement.WebElement (session=\"792b9dc9231b2ab9ed7683c7010228e6\", element=\"5df09737-6c1d-4ddf-864a-523b97dc44f1\")>\n",
      "li.find_element_by_css_selector(\"h5.proTit\").text = [발칸/동유럽12일]힐링탐험_온천+와이너리 체험\n",
      "li.find_element_by_css_selector(\"h5.proTit\") = <selenium.webdriver.remote.webelement.WebElement (session=\"792b9dc9231b2ab9ed7683c7010228e6\", element=\"d5de6ba3-7074-4636-916f-76821ae5aded\")>\n",
      "li.find_element_by_css_selector(\"h5.proTit\").text = [발칸동유럽15일]전~부 다! 보겠습니다 동유럽발칸_아시아나 항공\n",
      "li.find_element_by_css_selector(\"h5.proTit\") = <selenium.webdriver.remote.webelement.WebElement (session=\"792b9dc9231b2ab9ed7683c7010228e6\", element=\"101ac295-04a9-401f-9fb1-0e20c55a921d\")>\n",
      "li.find_element_by_css_selector(\"h5.proTit\").text = [독일일주 8일] 노옵션+아울렛시티 메칭엔 _OZ\n",
      "li.find_element_by_css_selector(\"h5.proTit\") = <selenium.webdriver.remote.webelement.WebElement (session=\"792b9dc9231b2ab9ed7683c7010228e6\", element=\"87d075dd-3896-4e01-8c55-c6a6e769da7f\")>\n",
      "li.find_element_by_css_selector(\"h5.proTit\").text = [발칸/동유럽12일] 유일무이 노팁/노옵션_아시아나항공\n",
      "li.find_element_by_css_selector(\"h5.proTit\") = <selenium.webdriver.remote.webelement.WebElement (session=\"792b9dc9231b2ab9ed7683c7010228e6\", element=\"4d135c6c-a508-4051-a0c9-61ade88f47be\")>\n",
      "li.find_element_by_css_selector(\"h5.proTit\").text = [발칸/동유럽12일]프라하+부다페스트야간투어_대한항공\n",
      "====================================================================================================\n",
      "8번째 페이지 가요\n",
      "====================================================================================================\n",
      "9번째 페이지 가요\n",
      "====================================================================================================\n"
     ]
    }
   ],
   "source": [
    "import time\n",
    "for page in range(1, 10):\n",
    "    driver.execute_script(\n",
    "        \"searchModule.SetCategoryList({}, '')\".format(page)\n",
    "    )\n",
    "    time.sleep(3)\n",
    "    print(str(page) + \"번째 페이지 가요\")\n",
    "    boxItems=driver.find_elements_by_css_selector(\n",
    "        \".panelZone>.oTravelBox>.boxList>li\"\n",
    "    )\n",
    "    for li in boxItems:\n",
    "        print('li.find_element_by_css_selector(\"h5.proTit\") =',\n",
    "            li.find_element_by_css_selector(\"h5.proTit\") # h5태그 & 클래스 속성의 proTit\n",
    "            )\n",
    "        print('li.find_element_by_css_selector(\"h5.proTit\").text =',\n",
    "            li.find_element_by_css_selector(\"h5.proTit\").text\n",
    "            )\n",
    "    print(\"=\"*100)"
   ]
  },
  {
   "cell_type": "code",
   "execution_count": 60,
   "metadata": {},
   "outputs": [
    {
     "name": "stdout",
     "output_type": "stream",
     "text": [
      "1번째 페이지 가요\n",
      "li.find_element_by_css_selector(\"h5.proTit\").text = [스위스/이태리 9일] 1급호텔+체르마트+융프라우+툰호수\n",
      "li.find_element_by_css_selector(\"strong.proPrice\").text.split(\"원\") = ['1,900,000 ', '~']\n",
      "li.find_element_by_css_selector(\"h5.proTit\").text = [스위스/이태리9일] 1급UP! 리기정상식+몽트뢰/프라이부르크\n",
      "li.find_element_by_css_selector(\"strong.proPrice\").text.split(\"원\") = ['1,750,000 ', '~']\n",
      "li.find_element_by_css_selector(\"h5.proTit\").text = [스위스/동유럽 5국8일] 스트라스부르+홀딱반해버린_OZ\n",
      "li.find_element_by_css_selector(\"strong.proPrice\").text.split(\"원\") = ['1,857,000 ', '~']\n",
      "li.find_element_by_css_selector(\"h5.proTit\").text = [서유럽 4국 12일] 이탈리아 완전일주+루체른/베른\n",
      "li.find_element_by_css_selector(\"strong.proPrice\").text.split(\"원\") = ['2,550,000 ', '~']\n",
      "li.find_element_by_css_selector(\"h5.proTit\").text = [서유럽 3국 9일] 융프라우+리기산+스위스집중투어\n",
      "li.find_element_by_css_selector(\"strong.proPrice\").text.split(\"원\") = ['2,190,000 ', '~']\n",
      "li.find_element_by_css_selector(\"h5.proTit\").text = [♥프랑스/스위스/이탈리아/오스트리아/독일 10일]\n",
      "li.find_element_by_css_selector(\"strong.proPrice\").text.split(\"원\") = ['2,150,000 ', '~']\n",
      "li.find_element_by_css_selector(\"h5.proTit\").text = [스위스/이태리9일]1급호텔+융프라우+정상식사\n",
      "li.find_element_by_css_selector(\"strong.proPrice\").text.split(\"원\") = ['1,850,000 ', '~']\n",
      "li.find_element_by_css_selector(\"h5.proTit\").text = [맞춤 여행]스위스/독일 자유 맞춤 견적 문의\n",
      "li.find_element_by_css_selector(\"strong.proPrice\").text.split(\"원\") = ['10,000 ', '~']\n",
      "li.find_element_by_css_selector(\"h5.proTit\").text = [프랑스/스위스 10일]몽생미셸_융프라우_몽트뢰\n",
      "li.find_element_by_css_selector(\"strong.proPrice\").text.split(\"원\") = ['2,250,000 ', '~']\n",
      "li.find_element_by_css_selector(\"h5.proTit\").text = [서유럽 5국 12일] 스트라스부르/베른+융프라우\n",
      "li.find_element_by_css_selector(\"strong.proPrice\").text.split(\"원\") = ['2,400,000 ', '~']\n",
      "====================================================================================================\n",
      "2번째 페이지 가요\n",
      "li.find_element_by_css_selector(\"h5.proTit\").text = [청정스위스 9일] 더힐링타임_쉴트호른+체르마트+루체른_전일정 1급 호텔\n",
      "li.find_element_by_css_selector(\"strong.proPrice\").text.split(\"원\") = ['3,230,000 ', '~']\n",
      "li.find_element_by_css_selector(\"h5.proTit\").text = [몽트뢰 재즈페스티벌_프랑스/스위스 10일] 베르니나 특급열차+휘르스트+샹티이\n",
      "li.find_element_by_css_selector(\"strong.proPrice\").text.split(\"원\") = ['2,797,000 ', '~']\n",
      "li.find_element_by_css_selector(\"h5.proTit\").text = [스위스트레킹①]융프라우_아이거 워크+인터라켄 자유1DAY_이젤발트 9일\n",
      "li.find_element_by_css_selector(\"strong.proPrice\").text.split(\"원\") = ['3,050,000 ', '~']\n",
      "li.find_element_by_css_selector(\"h5.proTit\").text = [소그룹_스위스/이탈리아 9일] 체르마트+융프라우+툰호수+샤프하우젠\n",
      "li.find_element_by_css_selector(\"strong.proPrice\").text.split(\"원\") = ['2,700,000 ', '~']\n",
      "li.find_element_by_css_selector(\"h5.proTit\").text = [안심여행_스위스/이탈리아/독일 9일] 몽트뢰+프라이부르크_리기 정상식/1급호텔UP\n",
      "li.find_element_by_css_selector(\"strong.proPrice\").text.split(\"원\") = ['1,800,000 ', '~']\n",
      "li.find_element_by_css_selector(\"h5.proTit\").text = [소그룹_서유럽 3국9일] 스위스 2대알프스_10대특식\n",
      "li.find_element_by_css_selector(\"strong.proPrice\").text.split(\"원\") = ['2,750,000 ', '~']\n",
      "li.find_element_by_css_selector(\"h5.proTit\").text = [안심여행_스위스 8일] 체르마트+융프라우+라인폭포\n",
      "li.find_element_by_css_selector(\"strong.proPrice\").text.split(\"원\") = ['2,167,000 ', '~']\n",
      "li.find_element_by_css_selector(\"h5.proTit\").text = [얼리버드_4국10일]루체른&융프라우_런던&로마 야간\n",
      "li.find_element_by_css_selector(\"strong.proPrice\").text.split(\"원\") = ['2,150,000 ', '~']\n",
      "li.find_element_by_css_selector(\"h5.proTit\").text = [얼리버드_스위스/이태리9일]1급_리기산 정상식사_몽트뢰\n",
      "li.find_element_by_css_selector(\"strong.proPrice\").text.split(\"원\") = ['1,700,000 ', '~']\n",
      "li.find_element_by_css_selector(\"h5.proTit\").text = [얼리버드_스위스/이태리9일]체르마트_융프라우_유람선\n",
      "li.find_element_by_css_selector(\"strong.proPrice\").text.split(\"원\") = ['1,900,000 ', '~']\n",
      "====================================================================================================\n",
      "3번째 페이지 가요\n",
      "li.find_element_by_css_selector(\"h5.proTit\").text = [얼리버드_4국10일]1급호텔_융프라우&루체른_피사\n",
      "li.find_element_by_css_selector(\"strong.proPrice\").text.split(\"원\") = ['2,150,000 ', '~']\n",
      "li.find_element_by_css_selector(\"h5.proTit\").text = [얼리버드_스위스일주 8일] 체르마트&융프라우_라인폭포\n",
      "li.find_element_by_css_selector(\"strong.proPrice\").text.split(\"원\") = ['2,017,000 ', '~']\n",
      "li.find_element_by_css_selector(\"h5.proTit\").text = [프랑스/스위스/독일 10일] 시즌2. 오직 8-11월까지 여행_베르동협곡+노옵션/노쇼핑\n",
      "li.find_element_by_css_selector(\"strong.proPrice\").text.split(\"원\") = ['3,100,000 ', '~']\n",
      "li.find_element_by_css_selector(\"h5.proTit\").text = [스위스/이태리9일]은하수_체르마트 숙박_수네가 2대 호수\n",
      "li.find_element_by_css_selector(\"strong.proPrice\").text.split(\"원\") = ['2,050,000 ', '~']\n",
      "li.find_element_by_css_selector(\"h5.proTit\").text = [정통_4국10일]1급호텔_융프라우&루체른_피사_아시아나\n",
      "li.find_element_by_css_selector(\"strong.proPrice\").text.split(\"원\") = ['2,200,000 ', '~']\n",
      "li.find_element_by_css_selector(\"h5.proTit\").text = [스위스/프랑스10일] 생모리츠_베르니나 특급열차/샹티이\n",
      "li.find_element_by_css_selector(\"strong.proPrice\").text.split(\"원\") = ['2,500,000 ', '~']\n",
      "li.find_element_by_css_selector(\"h5.proTit\").text = [스위스일주 8일] 체르마트&융프라우_라인폭포_몽트뢰\n",
      "li.find_element_by_css_selector(\"strong.proPrice\").text.split(\"원\") = ['2,067,000 ', '~']\n",
      "li.find_element_by_css_selector(\"h5.proTit\").text = [서유럽+동유럽 5국10일] 루체른+리기_프라하야경투어\n",
      "li.find_element_by_css_selector(\"strong.proPrice\").text.split(\"원\") = ['2,050,000 ', '~']\n",
      "li.find_element_by_css_selector(\"h5.proTit\").text = [서유럽 3국 9일] 루체른+베른+융프라우_스위스2DAY\n",
      "li.find_element_by_css_selector(\"strong.proPrice\").text.split(\"원\") = ['2,140,000 ', '~']\n",
      "li.find_element_by_css_selector(\"h5.proTit\").text = [스위스/이태리9일]미켈란젤로언덕♡준특급호텔숙박\n",
      "li.find_element_by_css_selector(\"strong.proPrice\").text.split(\"원\") = ['2,750,000 ', '~']\n",
      "====================================================================================================\n",
      "4번째 페이지 가요\n",
      "li.find_element_by_css_selector(\"h5.proTit\").text = [동유럽/스위스 5국9일] 루체른+스트라스부르+콜마르_직항\n",
      "li.find_element_by_css_selector(\"strong.proPrice\").text.split(\"원\") = ['1,640,000 ', '~']\n",
      "li.find_element_by_css_selector(\"h5.proTit\").text = [프랑스/스위스/독일 10일] 시즌1. 오직 6-8월 여행_라벤더프랑스+노옵션/노쇼핑\n",
      "li.find_element_by_css_selector(\"strong.proPrice\").text.split(\"원\") = ['2,940,000 ', '~']\n",
      "li.find_element_by_css_selector(\"h5.proTit\").text = [서유럽 3국 9일] 융프라우/바티칸하이패스_아시아나\n",
      "li.find_element_by_css_selector(\"strong.proPrice\").text.split(\"원\") = ['2,140,000 ', '~']\n",
      "li.find_element_by_css_selector(\"h5.proTit\").text = [서유럽 6국 12일] 뮈렌/베르사유/3대박물관\n",
      "li.find_element_by_css_selector(\"strong.proPrice\").text.split(\"원\") = ['1,890,000 ', '~']\n",
      "li.find_element_by_css_selector(\"h5.proTit\").text = [서유럽 6국 12일] 바티칸하이패스+특식+호텔UP!\n",
      "li.find_element_by_css_selector(\"strong.proPrice\").text.split(\"원\") = ['2,350,000 ', '~']\n",
      "li.find_element_by_css_selector(\"h5.proTit\").text = [서유럽 4국 12일] 융프라우VIP패스+남프랑스\n",
      "li.find_element_by_css_selector(\"strong.proPrice\").text.split(\"원\") = ['2,720,000 ', '~']\n",
      "li.find_element_by_css_selector(\"h5.proTit\").text = [서유럽 10국 16일] 하나도빠지지않는 완전일주+바티칸하이패스+뮈렌\n",
      "li.find_element_by_css_selector(\"strong.proPrice\").text.split(\"원\") = ['2,090,000 ', '~']\n",
      "li.find_element_by_css_selector(\"h5.proTit\").text = [서유럽 4국 12일] 1급UP! 모나코+융프라우 산악열차\n",
      "li.find_element_by_css_selector(\"strong.proPrice\").text.split(\"원\") = ['2,540,000 ', '~']\n",
      "li.find_element_by_css_selector(\"h5.proTit\").text = [서유럽4국10일]런던+옥스포드/윈저 내부관람+리기정상식\n",
      "li.find_element_by_css_selector(\"strong.proPrice\").text.split(\"원\") = ['2,050,000 ', '~']\n",
      "li.find_element_by_css_selector(\"h5.proTit\").text = [4국10일_대한항공]1급_융프라우_런던&로마 야간투어\n",
      "li.find_element_by_css_selector(\"strong.proPrice\").text.split(\"원\") = ['2,300,000 ', '~']\n",
      "====================================================================================================\n",
      "5번째 페이지 가요\n",
      "li.find_element_by_css_selector(\"h5.proTit\").text = [맞춤 여행]서유럽 자유 여행 맞춤 견적 문의\n",
      "li.find_element_by_css_selector(\"strong.proPrice\").text.split(\"원\") = ['10,000 ', '~']\n",
      "li.find_element_by_css_selector(\"h5.proTit\").text = [서유럽 4국 12일] 피렌체 더몰+옥스포드 2DAY\n",
      "li.find_element_by_css_selector(\"strong.proPrice\").text.split(\"원\") = ['2,600,000 ', '~']\n",
      "li.find_element_by_css_selector(\"h5.proTit\").text = [서유럽 3국 9일] 뮈렌+베르사유+폼페이_아시아나직항\n",
      "li.find_element_by_css_selector(\"strong.proPrice\").text.split(\"원\") = ['1,940,000 ', '~']\n",
      "li.find_element_by_css_selector(\"h5.proTit\").text = [서유럽 3국10일] 알자스마을+융프라우+호텔 UP\n",
      "li.find_element_by_css_selector(\"strong.proPrice\").text.split(\"원\") = ['2,150,000 ', '~']\n",
      "li.find_element_by_css_selector(\"h5.proTit\").text = [맞춤 여행]로맨틱♡커플 강추 유럽 맞춤 견적 문의\n",
      "li.find_element_by_css_selector(\"strong.proPrice\").text.split(\"원\") = ['10,000 ', '~']\n",
      "li.find_element_by_css_selector(\"h5.proTit\").text = [소그룹_서유럽 4국10일] 런던&로마 야간투어+융프라우\n",
      "li.find_element_by_css_selector(\"strong.proPrice\").text.split(\"원\") = ['3,100,000 ', '~']\n",
      "li.find_element_by_css_selector(\"h5.proTit\").text = [소그룹_서유럽 4국12일] 융프라우 VIP패스_런던 2DAY\n",
      "li.find_element_by_css_selector(\"strong.proPrice\").text.split(\"원\") = ['3,500,000 ', '~']\n"
     ]
    },
    {
     "name": "stdout",
     "output_type": "stream",
     "text": [
      "li.find_element_by_css_selector(\"h5.proTit\").text = [안심여행_서유럽 4국12일] 융프라우+이젤발트\n",
      "li.find_element_by_css_selector(\"strong.proPrice\").text.split(\"원\") = ['2,700,000 ', '~']\n",
      "li.find_element_by_css_selector(\"h5.proTit\").text = [얼리버드_4국 12일] 유럽에 불시착_토스카나/이젤발트\n",
      "li.find_element_by_css_selector(\"strong.proPrice\").text.split(\"원\") = ['2,400,000 ', '~']\n",
      "li.find_element_by_css_selector(\"h5.proTit\").text = [서유럽 4국 12일] 유럽에불시착_토스카나/이젤발트\n",
      "li.find_element_by_css_selector(\"strong.proPrice\").text.split(\"원\") = ['2,500,000 ', '~']\n",
      "====================================================================================================\n",
      "6번째 페이지 가요\n",
      "li.find_element_by_css_selector(\"h5.proTit\").text = [서유럽 3국 10일]알자스 마을+리기산+베르사유\n",
      "li.find_element_by_css_selector(\"strong.proPrice\").text.split(\"원\") = ['2,050,000 ', '~']\n",
      "li.find_element_by_css_selector(\"h5.proTit\").text = [4국12일]노팁/노옵션/노쇼핑_융프라우VIP패스+런던자유\n",
      "li.find_element_by_css_selector(\"strong.proPrice\").text.split(\"원\") = ['3,790,000 ', '~']\n",
      "li.find_element_by_css_selector(\"h5.proTit\").text = [서유럽 3국 10일] ♥융프라우+리기산_로마야간투어\n",
      "li.find_element_by_css_selector(\"strong.proPrice\").text.split(\"원\") = ['2,250,000 ', '~']\n",
      "li.find_element_by_css_selector(\"h5.proTit\").text = [서유럽 5국 12일] 이탈리아 남부1박_아말피/포지타노\n",
      "li.find_element_by_css_selector(\"strong.proPrice\").text.split(\"원\") = ['2,400,000 ', '~']\n",
      "li.find_element_by_css_selector(\"h5.proTit\").text = [서유럽 3국10일]남프랑스_니스+모나코/아말피+포지타노\n",
      "li.find_element_by_css_selector(\"strong.proPrice\").text.split(\"원\") = ['2,250,000 ', '~']\n",
      "li.find_element_by_css_selector(\"h5.proTit\").text = [서유럽 10일]1급호텔_천공의 도시 치비타_융프라우_런던+로마야간\n",
      "li.find_element_by_css_selector(\"strong.proPrice\").text.split(\"원\") = ['2,150,000 ', '~']\n",
      "li.find_element_by_css_selector(\"h5.proTit\").text = [얼리버드_서유럽4국12일] 융프라우 VIP패스 2DAY\n",
      "li.find_element_by_css_selector(\"strong.proPrice\").text.split(\"원\") = ['2,590,000 ', '~']\n",
      "li.find_element_by_css_selector(\"h5.proTit\").text = [서유럽 7국 16일] 쁘티 프랑스+남프랑스_OZ\n",
      "li.find_element_by_css_selector(\"strong.proPrice\").text.split(\"원\") = ['2,390,000 ', '~']\n",
      "li.find_element_by_css_selector(\"h5.proTit\").text = [서유럽 10국 16일] 알찬일주+융프라우+베르사유_직항\n",
      "li.find_element_by_css_selector(\"strong.proPrice\").text.split(\"원\") = ['2,290,000 ', '~']\n",
      "li.find_element_by_css_selector(\"h5.proTit\").text = [유럽/발칸12일]업계최초 작센스위스/7국12일_아시아나항공\n",
      "li.find_element_by_css_selector(\"strong.proPrice\").text.split(\"원\") = ['2,090,000 ', '~']\n",
      "====================================================================================================\n",
      "7번째 페이지 가요\n",
      "li.find_element_by_css_selector(\"h5.proTit\").text = [동유럽/발칸 5국10일] 작센스위스 국립공원+아시아나\n",
      "li.find_element_by_css_selector(\"strong.proPrice\").text.split(\"원\") = ['1,740,000 ', '~']\n",
      "li.find_element_by_css_selector(\"h5.proTit\").text = [발칸/동유럽12일]장기최다상품평+믿고 예약 가능_국적기\n",
      "li.find_element_by_css_selector(\"strong.proPrice\").text.split(\"원\") = ['1,940,000 ', '~']\n",
      "li.find_element_by_css_selector(\"h5.proTit\").text = [발칸/동유럽12일]장기메인NO1+베를린+할슈타트+두브로브니크_국적기\n",
      "li.find_element_by_css_selector(\"strong.proPrice\").text.split(\"원\") = ['1,940,000 ', '~']\n",
      "li.find_element_by_css_selector(\"h5.proTit\").text = [발칸/동유럽12일]로맨틱가도 로텐부르크/정통 동유럽발칸_아시아나\n",
      "li.find_element_by_css_selector(\"strong.proPrice\").text.split(\"원\") = ['2,140,000 ', '~']\n",
      "li.find_element_by_css_selector(\"h5.proTit\").text = [뮌헨/드레스덴/베를린7일]독일핵심도시 자유여행\n",
      "li.find_element_by_css_selector(\"strong.proPrice\").text.split(\"원\") = ['1,890,000 ', '~']\n",
      "li.find_element_by_css_selector(\"h5.proTit\").text = [발칸/동유럽12일]힐링탐험_온천+와이너리 체험\n",
      "li.find_element_by_css_selector(\"strong.proPrice\").text.split(\"원\") = ['1,885,400 ', '~']\n",
      "li.find_element_by_css_selector(\"h5.proTit\").text = [발칸동유럽15일]전~부 다! 보겠습니다 동유럽발칸_아시아나 항공\n",
      "li.find_element_by_css_selector(\"strong.proPrice\").text.split(\"원\") = ['2,140,000 ', '~']\n",
      "li.find_element_by_css_selector(\"h5.proTit\").text = [독일일주 8일] 노옵션+아울렛시티 메칭엔 _OZ\n",
      "li.find_element_by_css_selector(\"strong.proPrice\").text.split(\"원\") = ['1,907,000 ', '~']\n",
      "li.find_element_by_css_selector(\"h5.proTit\").text = [발칸/동유럽12일] 유일무이 노팁/노옵션_아시아나항공\n",
      "li.find_element_by_css_selector(\"strong.proPrice\").text.split(\"원\") = ['2,748,400 ', '~']\n",
      "li.find_element_by_css_selector(\"h5.proTit\").text = [발칸/동유럽12일]프라하+부다페스트야간투어_대한항공\n",
      "li.find_element_by_css_selector(\"strong.proPrice\").text.split(\"원\") = ['1,990,000 ', '~']\n",
      "====================================================================================================\n"
     ]
    }
   ],
   "source": [
    "import time\n",
    "for page in range(1, 8):\n",
    "    driver.execute_script(\n",
    "        \"searchModule.SetCategoryList({}, '')\".format(page)\n",
    "    )\n",
    "    time.sleep(3)\n",
    "    print(str(page) + \"번째 페이지 가요\")\n",
    "    boxItems=driver.find_elements_by_css_selector(\n",
    "        \".panelZone>.oTravelBox>.boxList>li\"\n",
    "    )\n",
    "    for li in boxItems:\n",
    "        print('li.find_element_by_css_selector(\"h5.proTit\").text =',\n",
    "            li.find_element_by_css_selector(\"h5.proTit\").text # h5태그 & 클래스 속성의 proTit\n",
    "            )\n",
    "        print('li.find_element_by_css_selector(\"strong.proPrice\").text.split(\"원\") =',\n",
    "            li.find_element_by_css_selector(\"strong.proPrice\").text.split(\"원\")\n",
    "            )\n",
    "    print(\"=\"*100)"
   ]
  }
 ],
 "metadata": {
  "kernelspec": {
   "display_name": "Python 3",
   "language": "python",
   "name": "python3"
  },
  "language_info": {
   "codemirror_mode": {
    "name": "ipython",
    "version": 3
   },
   "file_extension": ".py",
   "mimetype": "text/x-python",
   "name": "python",
   "nbconvert_exporter": "python",
   "pygments_lexer": "ipython3",
   "version": "3.8.5"
  }
 },
 "nbformat": 4,
 "nbformat_minor": 4
}
