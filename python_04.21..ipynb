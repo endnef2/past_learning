{
 "cells": [
  {
   "cell_type": "markdown",
   "metadata": {},
   "source": [
    "## 서울에서 김서방 찾기"
   ]
  },
  {
   "cell_type": "code",
   "execution_count": null,
   "metadata": {},
   "outputs": [],
   "source": [
    "def solution(seoul):\n",
    "    listA = list(seoul)\n",
    "    for i in range(0, len(listA)) :\n",
    "        listA[i] == 'kim'\n",
    "        answer = i\n",
    "    return answer"
   ]
  },
  {
   "cell_type": "code",
   "execution_count": null,
   "metadata": {},
   "outputs": [],
   "source": [
    "seoul = ['lee', 'park', 'kang', 'kim']\n",
    "solution(seoul)"
   ]
  },
  {
   "cell_type": "code",
   "execution_count": 25,
   "metadata": {},
   "outputs": [],
   "source": [
    "def solution(seoul):\n",
    "    for i in range(0, len(seoul)) :\n",
    "        if seoul[i] == 'kim' :   #if를 안써서 오류가?...\n",
    "            answer = i\n",
    "    print('김서방은', str(answer)+'에 있다.')"
   ]
  },
  {
   "cell_type": "code",
   "execution_count": 26,
   "metadata": {},
   "outputs": [
    {
     "name": "stdout",
     "output_type": "stream",
     "text": [
      "김서방은 3에 있다.\n"
     ]
    }
   ],
   "source": [
    "seoul = ['lee', 'park', 'kang', 'kim']\n",
    "solution(seoul)"
   ]
  },
  {
   "cell_type": "code",
   "execution_count": 28,
   "metadata": {
    "scrolled": true
   },
   "outputs": [
    {
     "name": "stdout",
     "output_type": "stream",
     "text": [
      "김서방은 1에 있다.\n"
     ]
    }
   ],
   "source": [
    "solution(['jane', 'kim'])"
   ]
  },
  {
   "cell_type": "code",
   "execution_count": 29,
   "metadata": {},
   "outputs": [
    {
     "name": "stdout",
     "output_type": "stream",
     "text": [
      "김서방은 1에 있다.\n"
     ]
    }
   ],
   "source": [
    "solution([\"jane\", \"kim\"])"
   ]
  },
  {
   "cell_type": "code",
   "execution_count": 54,
   "metadata": {},
   "outputs": [],
   "source": [
    "def solution(seoul):\n",
    "    for i in range(0, len(seoul)) :\n",
    "        if seoul[i] == 'Kim' :\n",
    "            answer = i\n",
    "    return '김서방은 '+str(answer)+'에 있다'"
   ]
  },
  {
   "cell_type": "code",
   "execution_count": 55,
   "metadata": {},
   "outputs": [
    {
     "data": {
      "text/plain": [
       "'김서방은 3에 있다'"
      ]
     },
     "execution_count": 55,
     "metadata": {},
     "output_type": "execute_result"
    }
   ],
   "source": [
    "seoul = ['Lee', 'Park', 'Kang', 'Kim']\n",
    "solution(seoul)"
   ]
  }
 ],
 "metadata": {
  "kernelspec": {
   "display_name": "Python 3",
   "language": "python",
   "name": "python3"
  },
  "language_info": {
   "codemirror_mode": {
    "name": "ipython",
    "version": 3
   },
   "file_extension": ".py",
   "mimetype": "text/x-python",
   "name": "python",
   "nbconvert_exporter": "python",
   "pygments_lexer": "ipython3",
   "version": "3.8.5"
  }
 },
 "nbformat": 4,
 "nbformat_minor": 4
}
