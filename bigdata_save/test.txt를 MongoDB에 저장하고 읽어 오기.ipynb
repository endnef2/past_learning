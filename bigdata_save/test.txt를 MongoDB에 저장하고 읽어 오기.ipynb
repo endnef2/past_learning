{
 "cells": [
  {
   "cell_type": "code",
   "execution_count": 1,
   "metadata": {},
   "outputs": [],
   "source": [
    "from pymongo import MongoClient # MongoDB에 접속을 해줄 객체"
   ]
  },
  {
   "cell_type": "code",
   "execution_count": 2,
   "metadata": {},
   "outputs": [
    {
     "data": {
      "text/plain": [
       "Database(MongoClient(host=['localhost:27017'], document_class=dict, tz_aware=False, connect=True), 'python_test')"
      ]
     },
     "execution_count": 2,
     "metadata": {},
     "output_type": "execute_result"
    }
   ],
   "source": [
    "MongoClient().python_test # 접속할 DB 이름: python_test 없는 경우 새로 만들고 있는 경우는 접속"
   ]
  },
  {
   "cell_type": "code",
   "execution_count": 3,
   "metadata": {},
   "outputs": [],
   "source": [
    "db = MongoClient().python_test # 변수에 담음 # MongoDB의 python_test DB에 접속"
   ]
  },
  {
   "cell_type": "code",
   "execution_count": 4,
   "metadata": {},
   "outputs": [
    {
     "data": {
      "text/plain": [
       "Database(MongoClient(host=['localhost:27017'], document_class=dict, tz_aware=False, connect=True), 'python_test')"
      ]
     },
     "execution_count": 4,
     "metadata": {},
     "output_type": "execute_result"
    }
   ],
   "source": [
    "db # MongoDB의 python_test DB에 레코드를 추가, 삭제, 조회할 객체를 만들 객체 리턴"
   ]
  },
  {
   "cell_type": "code",
   "execution_count": 5,
   "metadata": {},
   "outputs": [],
   "source": [
    "from gridfs import GridFS # MongoDB에 파일을 저장 할 객체 import"
   ]
  },
  {
   "cell_type": "code",
   "execution_count": 6,
   "metadata": {},
   "outputs": [
    {
     "data": {
      "text/plain": [
       "<gridfs.GridFS at 0x165f2e01610>"
      ]
     },
     "execution_count": 6,
     "metadata": {},
     "output_type": "execute_result"
    }
   ],
   "source": [
    "GridFS(db) # MongoDB에 파일을 저장할 객체 생성"
   ]
  },
  {
   "cell_type": "code",
   "execution_count": 7,
   "metadata": {},
   "outputs": [],
   "source": [
    "fs = GridFS(db)"
   ]
  },
  {
   "cell_type": "code",
   "execution_count": 8,
   "metadata": {},
   "outputs": [
    {
     "data": {
      "text/plain": [
       "<gridfs.GridFS at 0x165f2e01580>"
      ]
     },
     "execution_count": 8,
     "metadata": {},
     "output_type": "execute_result"
    }
   ],
   "source": [
    "fs"
   ]
  },
  {
   "cell_type": "code",
   "execution_count": 9,
   "metadata": {},
   "outputs": [
    {
     "name": "stdout",
     "output_type": "stream",
     "text": [
      "f =  <_io.BufferedReader name='c:/ai/workspace/mongodb/test.txt'>\n",
      "f.read() =  b'\\xeb\\xaa\\xbd\\xea\\xb3\\xa0DB GRIDFS\\xec\\x97\\x90 \\xec\\xa0\\x80\\xec\\x9e\\xa5\\xed\\x95\\xa0 \\xeb\\x82\\xb4\\xec\\x9a\\xa9'\n"
     ]
    }
   ],
   "source": [
    "with open(\"c:/ai/workspace/mongodb/test.txt\", 'rb') as f:\n",
    "    print(\"f = \", f)\n",
    "    print(\"f.read() = \", f.read())"
   ]
  },
  {
   "cell_type": "code",
   "execution_count": 10,
   "metadata": {},
   "outputs": [],
   "source": [
    "with open(\"c:/ai/workspace/mongodb/test.txt\", 'rb') as f:\n",
    "    fs.put(f, filename = \"test.txt\")\n",
    "    # MongoDB에 test.txt 파일내용 저장 # fs.put -> f.read() 호출 파일 내용 가져와서 MongoDB로 저장"
   ]
  },
  {
   "cell_type": "code",
   "execution_count": 11,
   "metadata": {},
   "outputs": [
    {
     "data": {
      "text/plain": [
       "<pymongo.cursor.Cursor at 0x165f2e01d00>"
      ]
     },
     "execution_count": 11,
     "metadata": {},
     "output_type": "execute_result"
    }
   ],
   "source": [
    "# GridFS에 저장된 파일 조회\n",
    "db.fs.files.find()\n",
    "# db(MongoDB), fs.files(테이블명 : MongoDB에 저장한 파일 정보 - 파일명, 업로드 일시, 크기...)"
   ]
  },
  {
   "cell_type": "code",
   "execution_count": 12,
   "metadata": {},
   "outputs": [
    {
     "data": {
      "text/plain": [
       "[{'_id': ObjectId('608f5c51c9acd662e1c43692'),\n",
       "  'filename': 'test.txt',\n",
       "  'md5': '0b97c2704cfb0e1892bb47a0b62bef96',\n",
       "  'chunkSize': 261120,\n",
       "  'length': 35,\n",
       "  'uploadDate': datetime.datetime(2021, 5, 3, 2, 13, 37, 708000)}]"
      ]
     },
     "execution_count": 12,
     "metadata": {},
     "output_type": "execute_result"
    }
   ],
   "source": [
    "list(db.fs.files.find())"
   ]
  },
  {
   "cell_type": "code",
   "execution_count": 13,
   "metadata": {},
   "outputs": [
    {
     "data": {
      "text/plain": [
       "<gridfs.grid_file.GridOut at 0x165f2e01b20>"
      ]
     },
     "execution_count": 13,
     "metadata": {},
     "output_type": "execute_result"
    }
   ],
   "source": [
    "fs.get_last_version(filename = \"test.txt\")"
   ]
  },
  {
   "cell_type": "code",
   "execution_count": 17,
   "metadata": {},
   "outputs": [],
   "source": [
    "# GridFS에 저장된 test.txt파일을 읽을 객체 f생성\n",
    "f = fs.get_last_version(filename = \"test.txt\")"
   ]
  },
  {
   "cell_type": "code",
   "execution_count": 15,
   "metadata": {},
   "outputs": [
    {
     "data": {
      "text/plain": [
       "<gridfs.grid_file.GridOut at 0x165f2e01e20>"
      ]
     },
     "execution_count": 15,
     "metadata": {},
     "output_type": "execute_result"
    }
   ],
   "source": [
    "f"
   ]
  },
  {
   "cell_type": "code",
   "execution_count": 16,
   "metadata": {},
   "outputs": [
    {
     "data": {
      "text/plain": [
       "b'\\xeb\\xaa\\xbd\\xea\\xb3\\xa0DB GRIDFS\\xec\\x97\\x90 \\xec\\xa0\\x80\\xec\\x9e\\xa5\\xed\\x95\\xa0 \\xeb\\x82\\xb4\\xec\\x9a\\xa9'"
      ]
     },
     "execution_count": 16,
     "metadata": {},
     "output_type": "execute_result"
    }
   ],
   "source": [
    "# 'test.txt'파일의 가장 마지막 업로드 내용\n",
    "f.read()"
   ]
  },
  {
   "cell_type": "code",
   "execution_count": 18,
   "metadata": {},
   "outputs": [
    {
     "data": {
      "text/plain": [
       "'몽고DB GRIDFS에 저장할 내용'"
      ]
     },
     "execution_count": 18,
     "metadata": {},
     "output_type": "execute_result"
    }
   ],
   "source": [
    "f.read().decode(\"utf-8\")"
   ]
  }
 ],
 "metadata": {
  "kernelspec": {
   "display_name": "Python 3",
   "language": "python",
   "name": "python3"
  },
  "language_info": {
   "codemirror_mode": {
    "name": "ipython",
    "version": 3
   },
   "file_extension": ".py",
   "mimetype": "text/x-python",
   "name": "python",
   "nbconvert_exporter": "python",
   "pygments_lexer": "ipython3",
   "version": "3.8.5"
  }
 },
 "nbformat": 4,
 "nbformat_minor": 4
}
