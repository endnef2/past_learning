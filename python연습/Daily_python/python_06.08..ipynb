{
 "cells": [
  {
   "cell_type": "markdown",
   "metadata": {},
   "source": [
    "# 약수의 개수와 덧셈\n",
    "## https://programmers.co.kr/learn/courses/30/lessons/77884"
   ]
  },
  {
   "cell_type": "code",
   "execution_count": 19,
   "metadata": {},
   "outputs": [],
   "source": [
    "def solution(left, right):\n",
    "    cnt = 0\n",
    "    a = []\n",
    "    answer = 0\n",
    "    for i in range(left, right+1) :\n",
    "        for j in range(1, i+1) :\n",
    "            if i%j == 0:\n",
    "                cnt += 1\n",
    "        if cnt%2 == 0:\n",
    "            a.append(i)\n",
    "        else :\n",
    "            a.append(-i)\n",
    "        cnt = 0\n",
    "    for k in a:\n",
    "        answer += k\n",
    "    return answer"
   ]
  },
  {
   "cell_type": "code",
   "execution_count": 20,
   "metadata": {},
   "outputs": [
    {
     "name": "stdout",
     "output_type": "stream",
     "text": [
      "j 1\n",
      "cnt 1\n",
      "j 2\n",
      "j 3\n",
      "j 4\n",
      "j 5\n",
      "j 6\n",
      "j 7\n",
      "j 8\n",
      "j 9\n",
      "j 10\n",
      "j 11\n",
      "j 12\n",
      "j 13\n",
      "cnt 2\n",
      "j 1\n",
      "cnt 1\n",
      "j 2\n",
      "cnt 2\n",
      "j 3\n",
      "j 4\n",
      "j 5\n",
      "j 6\n",
      "j 7\n",
      "cnt 3\n",
      "j 8\n",
      "j 9\n",
      "j 10\n",
      "j 11\n",
      "j 12\n",
      "j 13\n",
      "j 14\n",
      "cnt 4\n",
      "j 1\n",
      "cnt 1\n",
      "j 2\n",
      "j 3\n",
      "cnt 2\n",
      "j 4\n",
      "j 5\n",
      "cnt 3\n",
      "j 6\n",
      "j 7\n",
      "j 8\n",
      "j 9\n",
      "j 10\n",
      "j 11\n",
      "j 12\n",
      "j 13\n",
      "j 14\n",
      "j 15\n",
      "cnt 4\n",
      "j 1\n",
      "cnt 1\n",
      "j 2\n",
      "cnt 2\n",
      "j 3\n",
      "j 4\n",
      "cnt 3\n",
      "j 5\n",
      "j 6\n",
      "j 7\n",
      "j 8\n",
      "cnt 4\n",
      "j 9\n",
      "j 10\n",
      "j 11\n",
      "j 12\n",
      "j 13\n",
      "j 14\n",
      "j 15\n",
      "j 16\n",
      "cnt 5\n",
      "j 1\n",
      "cnt 1\n",
      "j 2\n",
      "j 3\n",
      "j 4\n",
      "j 5\n",
      "j 6\n",
      "j 7\n",
      "j 8\n",
      "j 9\n",
      "j 10\n",
      "j 11\n",
      "j 12\n",
      "j 13\n",
      "j 14\n",
      "j 15\n",
      "j 16\n",
      "j 17\n",
      "cnt 2\n",
      "13\n",
      "14\n",
      "15\n",
      "-16\n",
      "17\n"
     ]
    },
    {
     "data": {
      "text/plain": [
       "43"
      ]
     },
     "execution_count": 20,
     "metadata": {},
     "output_type": "execute_result"
    }
   ],
   "source": [
    "solution(13 , 17)"
   ]
  },
  {
   "cell_type": "code",
   "execution_count": null,
   "metadata": {},
   "outputs": [],
   "source": [
    "cnt = 0\n",
    "a = []\n",
    "answer = 0\n",
    "for i in range(left, righht+1) :\n",
    "    for j in range(1, i+1) :\n",
    "        if i%j == 0:\n",
    "            cnt += 1\n",
    "    if cnt%2 == 0:\n",
    "        a.append(i)\n",
    "    else :\n",
    "        a.append(-i)\n",
    "for k in a:\n",
    "    answer += k\n"
   ]
  },
  {
   "cell_type": "code",
   "execution_count": 5,
   "metadata": {},
   "outputs": [],
   "source": [
    "b = [1, -1, 2]"
   ]
  },
  {
   "cell_type": "code",
   "execution_count": null,
   "metadata": {},
   "outputs": [],
   "source": []
  }
 ],
 "metadata": {
  "kernelspec": {
   "display_name": "Python 3",
   "language": "python",
   "name": "python3"
  },
  "language_info": {
   "codemirror_mode": {
    "name": "ipython",
    "version": 3
   },
   "file_extension": ".py",
   "mimetype": "text/x-python",
   "name": "python",
   "nbconvert_exporter": "python",
   "pygments_lexer": "ipython3",
   "version": "3.8.5"
  }
 },
 "nbformat": 4,
 "nbformat_minor": 4
}
