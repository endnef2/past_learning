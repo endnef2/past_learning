{
 "cells": [
  {
   "cell_type": "markdown",
   "metadata": {},
   "source": [
    "# 2016년\n",
    "## https://programmers.co.kr/learn/courses/30/lessons/12901"
   ]
  },
  {
   "cell_type": "code",
   "execution_count": 10,
   "metadata": {},
   "outputs": [],
   "source": [
    "def solution(a, b):\n",
    "    import datetime as dt\n",
    "    x = dt.datetime(2016, a, b)\n",
    "    lstm = [\"MON\",\"TUE\",\"WED\",\"THU\",\"FRI\",\"SAT\", \"SUN\"]\n",
    "    y = x.weekday()\n",
    "    answer = lstm[y]\n",
    "    return answer"
   ]
  },
  {
   "cell_type": "code",
   "execution_count": 11,
   "metadata": {},
   "outputs": [
    {
     "data": {
      "text/plain": [
       "'THU'"
      ]
     },
     "execution_count": 11,
     "metadata": {},
     "output_type": "execute_result"
    }
   ],
   "source": [
    "solution(5, 5)"
   ]
  },
  {
   "cell_type": "code",
   "execution_count": 4,
   "metadata": {},
   "outputs": [],
   "source": [
    "import datetime as dt"
   ]
  },
  {
   "cell_type": "code",
   "execution_count": 5,
   "metadata": {},
   "outputs": [],
   "source": [
    "x = dt.datetime(2016, 1, 1)"
   ]
  },
  {
   "cell_type": "code",
   "execution_count": 6,
   "metadata": {},
   "outputs": [
    {
     "data": {
      "text/plain": [
       "4"
      ]
     },
     "execution_count": 6,
     "metadata": {},
     "output_type": "execute_result"
    }
   ],
   "source": [
    "x.weekday()"
   ]
  },
  {
   "cell_type": "code",
   "execution_count": 8,
   "metadata": {},
   "outputs": [],
   "source": [
    "lstm = [\"MON\",\"TUE\",\"WED\",\"THU\",\"FRI\",\"SAT\", \"SUN\"]"
   ]
  },
  {
   "cell_type": "code",
   "execution_count": 9,
   "metadata": {},
   "outputs": [
    {
     "data": {
      "text/plain": [
       "'FRI'"
      ]
     },
     "execution_count": 9,
     "metadata": {},
     "output_type": "execute_result"
    }
   ],
   "source": [
    "lstm[4]"
   ]
  },
  {
   "cell_type": "code",
   "execution_count": 13,
   "metadata": {},
   "outputs": [],
   "source": [
    "z = dt.datetime(2016, 1, 1).weekday()"
   ]
  },
  {
   "cell_type": "code",
   "execution_count": 14,
   "metadata": {},
   "outputs": [
    {
     "data": {
      "text/plain": [
       "4"
      ]
     },
     "execution_count": 14,
     "metadata": {},
     "output_type": "execute_result"
    }
   ],
   "source": [
    "z"
   ]
  },
  {
   "cell_type": "code",
   "execution_count": null,
   "metadata": {},
   "outputs": [],
   "source": [
    "## 이해하기\n",
    "def getDayName(a,b):\n",
    "    months = [31, 29, 31, 30, 31, 30, 31, 31, 30, 31, 30, 31]\n",
    "    days = ['FRI', 'SAT', 'SUN', 'MON', 'TUE', 'WED', 'THU']\n",
    "    return days[(sum(months[:a-1])+b-1)%7]"
   ]
  },
  {
   "cell_type": "code",
   "execution_count": null,
   "metadata": {},
   "outputs": [],
   "source": [
    "## 이해하기 22\n",
    "def getDayName(a,b):\n",
    "    answer = \"\"\n",
    "    if a>=2:\n",
    "        b+=31\n",
    "        if a>=3:\n",
    "            b+=29#2월\n",
    "            if a>=4:\n",
    "                b+=31#3월\n",
    "                if a>=5:\n",
    "                    b+=30#4월\n",
    "                    if a>=6:\n",
    "                        b+=31#5월\n",
    "                        if a>=7:\n",
    "                            b+=30#6월\n",
    "                            if a>=8:\n",
    "                                b+=31#7월\n",
    "                                if a>=9:\n",
    "                                    b+=31#8월\n",
    "                                    if a>=10:\n",
    "                                        b+=30#9월\n",
    "                                        if a>=11:\n",
    "                                            b+=31#10월\n",
    "                                            if a==12:\n",
    "                                                b+=30#11월\n",
    "    b=b%7\n",
    "\n",
    "    if b==1:answer=\"FRI\"\n",
    "    elif b==2:answer=\"SAT\" \n",
    "    elif b==3:answer=\"SUN\"\n",
    "    elif b==4:answer=\"MON\"\n",
    "    elif b==5:answer=\"TUE\"\n",
    "    elif b==6:answer=\"WED\"\n",
    "    else:answer=\"THU\"\n",
    "    return answer"
   ]
  },
  {
   "cell_type": "code",
   "execution_count": null,
   "metadata": {},
   "outputs": [],
   "source": [
    "## 이해하기 333\n",
    "from datetime import date\n",
    "DAY = {0: 'MON', 1: 'TUE', 2: 'WED', 3: 'THU', 4: 'FRI', 5: 'SAT', 6: 'SUN'}\n",
    "\n",
    "def getDayName(a,b):\n",
    "    '''I like cheating (C++로 다른 방법으로도 풀었습니다 :)'''\n",
    "    d = date(2016, a, b)\n",
    "    return DAY[d.weekday()]"
   ]
  }
 ],
 "metadata": {
  "kernelspec": {
   "display_name": "Python 3",
   "language": "python",
   "name": "python3"
  },
  "language_info": {
   "codemirror_mode": {
    "name": "ipython",
    "version": 3
   },
   "file_extension": ".py",
   "mimetype": "text/x-python",
   "name": "python",
   "nbconvert_exporter": "python",
   "pygments_lexer": "ipython3",
   "version": "3.8.5"
  }
 },
 "nbformat": 4,
 "nbformat_minor": 4
}
