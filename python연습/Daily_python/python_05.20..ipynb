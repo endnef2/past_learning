{
 "cells": [
  {
   "cell_type": "markdown",
   "metadata": {},
   "source": [
    "# 모의고사\n",
    "## https://programmers.co.kr/learn/courses/30/lessons/42840"
   ]
  },
  {
   "cell_type": "code",
   "execution_count": 163,
   "metadata": {},
   "outputs": [],
   "source": [
    "def solution(answers):\n",
    "    st1 = [1,2,3,4,5]*2000\n",
    "    st2 = [2,1,2,3,2,4,2,5]*1250\n",
    "    st3 = [3,3,1,1,2,2,4,4,5,5]*1000\n",
    "    cn1 = 0\n",
    "    cn2 = 0\n",
    "    cn3 = 0\n",
    "    for i in range(0, len(answers)):\n",
    "        if answers[i] == st1[i] :\n",
    "            cn1 += 1\n",
    "        if answers[i] == st2[i] :\n",
    "            cn2 += 1\n",
    "        if answers[i] == st3[i] :\n",
    "            cn3 += 1\n",
    "    a = [cn1, cn2, cn3]\n",
    "    max_list = [x+1 for x in [0, 1, 2] if a[x] == max(a)]\n",
    "    return max_list"
   ]
  },
  {
   "cell_type": "code",
   "execution_count": 181,
   "metadata": {},
   "outputs": [],
   "source": [
    "def solution(answers):\n",
    "    st1 = [1,2,3,4,5]*2000\n",
    "    st2 = [2,1,2,3,2,4,2,5]*1250\n",
    "    st3 = [3,3,1,1,2,2,4,4,5,5]*1000\n",
    "    cn1 = 0\n",
    "    cn2 = 0\n",
    "    cn3 = 0\n",
    "    max_list = []\n",
    "    for i in range(0, len(answers)):\n",
    "        if answers[i] == st1[i] :\n",
    "            cn1 += 1\n",
    "        if answers[i] == st2[i] :\n",
    "            cn2 += 1\n",
    "        if answers[i] == st3[i] :\n",
    "            cn3 += 1\n",
    "    a = [cn1, cn2, cn3]\n",
    "    for i in [0, 1, 2]:\n",
    "        if a[i] == max(a) :\n",
    "            max_list.append(i+1)\n",
    "    return max_list"
   ]
  },
  {
   "cell_type": "code",
   "execution_count": 182,
   "metadata": {},
   "outputs": [],
   "source": [
    "an = [1,2,3,4,5]"
   ]
  },
  {
   "cell_type": "code",
   "execution_count": 183,
   "metadata": {},
   "outputs": [
    {
     "data": {
      "text/plain": [
       "5"
      ]
     },
     "execution_count": 183,
     "metadata": {},
     "output_type": "execute_result"
    }
   ],
   "source": [
    "max(an)"
   ]
  },
  {
   "cell_type": "code",
   "execution_count": 184,
   "metadata": {
    "scrolled": true
   },
   "outputs": [
    {
     "data": {
      "text/plain": [
       "[1]"
      ]
     },
     "execution_count": 184,
     "metadata": {},
     "output_type": "execute_result"
    }
   ],
   "source": [
    "solution(an)"
   ]
  },
  {
   "cell_type": "code",
   "execution_count": 185,
   "metadata": {},
   "outputs": [],
   "source": [
    "an2 = [1,3,2,4,2]"
   ]
  },
  {
   "cell_type": "code",
   "execution_count": 186,
   "metadata": {},
   "outputs": [
    {
     "data": {
      "text/plain": [
       "4"
      ]
     },
     "execution_count": 186,
     "metadata": {},
     "output_type": "execute_result"
    }
   ],
   "source": [
    "max(an2)"
   ]
  },
  {
   "cell_type": "code",
   "execution_count": 187,
   "metadata": {},
   "outputs": [
    {
     "data": {
      "text/plain": [
       "[1, 2, 3]"
      ]
     },
     "execution_count": 187,
     "metadata": {},
     "output_type": "execute_result"
    }
   ],
   "source": [
    "solution(an2)"
   ]
  },
  {
   "cell_type": "code",
   "execution_count": 188,
   "metadata": {},
   "outputs": [],
   "source": [
    "an3 = [1, 1, 1, 1, 1]"
   ]
  },
  {
   "cell_type": "code",
   "execution_count": 189,
   "metadata": {},
   "outputs": [
    {
     "data": {
      "text/plain": [
       "1"
      ]
     },
     "execution_count": 189,
     "metadata": {},
     "output_type": "execute_result"
    }
   ],
   "source": [
    "max(an3)"
   ]
  },
  {
   "cell_type": "code",
   "execution_count": 190,
   "metadata": {},
   "outputs": [
    {
     "data": {
      "text/plain": [
       "[3]"
      ]
     },
     "execution_count": 190,
     "metadata": {},
     "output_type": "execute_result"
    }
   ],
   "source": [
    "solution(an3)"
   ]
  },
  {
   "cell_type": "code",
   "execution_count": null,
   "metadata": {},
   "outputs": [],
   "source": [
    "1번 수포자가 찍는 방식: 1, 2, 3, 4, 5, 1, 2, 3, 4, 5, ...\n",
    "2번 수포자가 찍는 방식: 2, 1, 2, 3, 2, 4, 2, 5, 2, 1, 2, 3, 2, 4, 2, 5, ...\n",
    "3번 수포자가 찍는 방식: 3, 3, 1, 1, 2, 2, 4, 4, 5, 5, 3, 3, 1, 1, 2, 2, 4, 4, 5, 5, ..."
   ]
  },
  {
   "cell_type": "code",
   "execution_count": null,
   "metadata": {},
   "outputs": [],
   "source": [
    "st1 = [1,2,3,4,5]*2000\n",
    "st2 = [2,1,2,3,2,4,2,5]*1250\n",
    "st3 = [3,3,1,1,2,2,4,4,5,5]*1000\n",
    "for i in range(0, len(answers)):\n",
    "    if answers[i] = st1[i] :\n",
    "        cn1 += 1\n",
    "    if answers[i] = st2[i] :\n",
    "        cn2 += 1\n",
    "    if answers[i] = st3[i] :\n",
    "        cn3 += 1\n",
    "a = [cn1, cn2, cn3]\n",
    "m = a[0]\n",
    "k = 0\n",
    "for i in range(0, len(a)) :\n",
    "    if  a[i] > m :\n",
    "        m = a[i]\n",
    "        k = i"
   ]
  },
  {
   "cell_type": "code",
   "execution_count": 2,
   "metadata": {},
   "outputs": [],
   "source": [
    "a = [1, 3, 2]"
   ]
  },
  {
   "cell_type": "code",
   "execution_count": 3,
   "metadata": {},
   "outputs": [],
   "source": [
    "a.sort()"
   ]
  },
  {
   "cell_type": "code",
   "execution_count": 82,
   "metadata": {},
   "outputs": [
    {
     "data": {
      "text/plain": [
       "[1, 2, 3]"
      ]
     },
     "execution_count": 82,
     "metadata": {},
     "output_type": "execute_result"
    }
   ],
   "source": [
    "a"
   ]
  },
  {
   "cell_type": "code",
   "execution_count": 83,
   "metadata": {},
   "outputs": [
    {
     "data": {
      "text/plain": [
       "3"
      ]
     },
     "execution_count": 83,
     "metadata": {},
     "output_type": "execute_result"
    }
   ],
   "source": [
    "len(a)"
   ]
  },
  {
   "cell_type": "code",
   "execution_count": 84,
   "metadata": {},
   "outputs": [
    {
     "name": "stdout",
     "output_type": "stream",
     "text": [
      "0\n",
      "1\n",
      "2\n"
     ]
    }
   ],
   "source": [
    "for i in range(0, len(a)):\n",
    "    print(i)"
   ]
  }
 ],
 "metadata": {
  "kernelspec": {
   "display_name": "Python 3",
   "language": "python",
   "name": "python3"
  },
  "language_info": {
   "codemirror_mode": {
    "name": "ipython",
    "version": 3
   },
   "file_extension": ".py",
   "mimetype": "text/x-python",
   "name": "python",
   "nbconvert_exporter": "python",
   "pygments_lexer": "ipython3",
   "version": "3.8.5"
  }
 },
 "nbformat": 4,
 "nbformat_minor": 4
}
