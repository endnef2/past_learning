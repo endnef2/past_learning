{
 "cells": [
  {
   "cell_type": "markdown",
   "metadata": {},
   "source": [
    "# 이상한 문자 만들기\n",
    "## https://programmers.co.kr/learn/courses/30/lessons/12930"
   ]
  },
  {
   "cell_type": "code",
   "execution_count": 90,
   "metadata": {},
   "outputs": [],
   "source": [
    "def solution(s):\n",
    "    lists = list(s)\n",
    "    cnt = 0\n",
    "    for i in range(0, len(lists)):\n",
    "        print(cnt)\n",
    "        if lists[i] ==' ':\n",
    "            cnt = 0\n",
    "        elif lists[i] !=' ' and i == 0 :\n",
    "            lists[i] = lists[i].upper()\n",
    "            cnt+=1          \n",
    "        elif lists[i] !=' ' and cnt%2 == 0 :\n",
    "            lists[i] = lists[i].upper()\n",
    "            cnt+=1\n",
    "        elif lists[i] !=' ' and cnt%2 != 0:\n",
    "            lists[i] = lists[i].lower()\n",
    "            cnt+=1\n",
    "    answer = ''.join(lists)\n",
    "    return answer"
   ]
  },
  {
   "cell_type": "code",
   "execution_count": 86,
   "metadata": {
    "scrolled": true
   },
   "outputs": [
    {
     "data": {
      "text/plain": [
       "0"
      ]
     },
     "execution_count": 86,
     "metadata": {},
     "output_type": "execute_result"
    }
   ],
   "source": [
    "0%2"
   ]
  },
  {
   "cell_type": "code",
   "execution_count": 91,
   "metadata": {},
   "outputs": [],
   "source": [
    "ab = \"try hello world\""
   ]
  },
  {
   "cell_type": "code",
   "execution_count": 92,
   "metadata": {},
   "outputs": [
    {
     "name": "stdout",
     "output_type": "stream",
     "text": [
      "0\n",
      "1\n",
      "2\n",
      "3\n",
      "0\n",
      "1\n",
      "2\n",
      "3\n",
      "4\n",
      "5\n",
      "0\n",
      "1\n",
      "2\n",
      "3\n",
      "4\n"
     ]
    },
    {
     "data": {
      "text/plain": [
       "'TrY HeLlO WoRlD'"
      ]
     },
     "execution_count": 92,
     "metadata": {},
     "output_type": "execute_result"
    }
   ],
   "source": [
    "solution(ab)"
   ]
  },
  {
   "cell_type": "code",
   "execution_count": 93,
   "metadata": {},
   "outputs": [],
   "source": [
    "aa = \"   try hello world\""
   ]
  },
  {
   "cell_type": "code",
   "execution_count": 94,
   "metadata": {},
   "outputs": [
    {
     "name": "stdout",
     "output_type": "stream",
     "text": [
      "0\n",
      "0\n",
      "0\n",
      "0\n",
      "1\n",
      "2\n",
      "3\n",
      "0\n",
      "1\n",
      "2\n",
      "3\n",
      "4\n",
      "5\n",
      "0\n",
      "1\n",
      "2\n",
      "3\n",
      "4\n"
     ]
    },
    {
     "data": {
      "text/plain": [
       "'   TrY HeLlO WoRlD'"
      ]
     },
     "execution_count": 94,
     "metadata": {},
     "output_type": "execute_result"
    }
   ],
   "source": [
    "solution(aa)"
   ]
  },
  {
   "cell_type": "code",
   "execution_count": 84,
   "metadata": {},
   "outputs": [],
   "source": [
    "s = \"try hello worl    d\""
   ]
  },
  {
   "cell_type": "code",
   "execution_count": 85,
   "metadata": {},
   "outputs": [
    {
     "data": {
      "text/plain": [
       "'TrY HeLlO WoRl    D'"
      ]
     },
     "execution_count": 85,
     "metadata": {},
     "output_type": "execute_result"
    }
   ],
   "source": [
    "solution(s)"
   ]
  },
  {
   "cell_type": "code",
   "execution_count": 57,
   "metadata": {},
   "outputs": [],
   "source": [
    "b = aa.split()"
   ]
  },
  {
   "cell_type": "code",
   "execution_count": 58,
   "metadata": {},
   "outputs": [
    {
     "data": {
      "text/plain": [
       "['try', 'hello', 'world']"
      ]
     },
     "execution_count": 58,
     "metadata": {},
     "output_type": "execute_result"
    }
   ],
   "source": [
    "b"
   ]
  },
  {
   "cell_type": "code",
   "execution_count": 59,
   "metadata": {},
   "outputs": [
    {
     "name": "stdout",
     "output_type": "stream",
     "text": [
      "[' ', ' ', ' ', 't', 'r', 'y', ' ', 'h', 'e', 'l', 'l', 'o', ' ', 'w', 'o', 'r', 'l', 'd']\n",
      "[' ', ' ', ' ', 'T', 'r', 'Y', ' ', 'H', 'e', 'L', 'l', 'O', ' ', 'W', 'o', 'R', 'l', 'D']\n"
     ]
    },
    {
     "data": {
      "text/plain": [
       "'   TrY HeLlO WoRlD'"
      ]
     },
     "execution_count": 59,
     "metadata": {},
     "output_type": "execute_result"
    }
   ],
   "source": [
    "solution(aa)"
   ]
  },
  {
   "cell_type": "code",
   "execution_count": 2,
   "metadata": {},
   "outputs": [],
   "source": [
    "def solution(s):\n",
    "    lists = s.split()\n",
    "    for j in range(0, len(lists)) :\n",
    "        for i in range(0,  :\n",
    "            if i % 2 == 0 and lists[i]!=' ':\n",
    "                lists[i] = lists[i].upper()\n",
    "            elif i % 2 != 0 and lists[i]!=' ':\n",
    "                lists[i] = lists[i].lower()\n",
    "    print(lists)\n",
    "    answer = ''.join(lists)\n",
    "    return answer"
   ]
  },
  {
   "cell_type": "code",
   "execution_count": 24,
   "metadata": {},
   "outputs": [],
   "source": [
    "def solution(s):\n",
    "    list1 = s.split(' ')\n",
    "    answer = []\n",
    "    for i in list1 :\n",
    "        for j in range(0, len(i)) :\n",
    "            if i != ' ' and i[j]%2 == 0:\n",
    "                i[j] = i[j].upper()\n",
    "                answer.append(i[j])\n",
    "            elif i != ' ' and i[j]%2 != 0:\n",
    "                i[j] = i[j].lower()\n",
    "                answer.append(i[j])\n",
    "        else :\n",
    "            answer.append(i)\n",
    "    answer = ''.join(answer)\n",
    "    return answer"
   ]
  },
  {
   "cell_type": "code",
   "execution_count": 60,
   "metadata": {},
   "outputs": [],
   "source": [
    "aa = \"   try hello world\""
   ]
  },
  {
   "cell_type": "code",
   "execution_count": 5,
   "metadata": {},
   "outputs": [
    {
     "name": "stdout",
     "output_type": "stream",
     "text": [
      " \n",
      " \n",
      " \n",
      "t\n",
      "r\n",
      "y\n",
      " \n",
      "h\n",
      "e\n",
      "l\n",
      "l\n",
      "o\n",
      " \n",
      "w\n",
      "o\n",
      "r\n",
      "l\n",
      "d\n"
     ]
    }
   ],
   "source": [
    "for i in aa :\n",
    "    print(i)"
   ]
  },
  {
   "cell_type": "code",
   "execution_count": 61,
   "metadata": {},
   "outputs": [
    {
     "name": "stdout",
     "output_type": "stream",
     "text": [
      "[' ', ' ', ' ', 't', 'r', 'y', ' ', 'h', 'e', 'l', 'l', 'o', ' ', 'w', 'o', 'r', 'l', 'd']\n",
      "[' ', ' ', ' ', 'T', 'r', 'Y', ' ', 'H', 'e', 'L', 'l', 'O', ' ', 'W', 'o', 'R', 'l', 'D']\n"
     ]
    },
    {
     "data": {
      "text/plain": [
       "'   TrY HeLlO WoRlD'"
      ]
     },
     "execution_count": 61,
     "metadata": {},
     "output_type": "execute_result"
    }
   ],
   "source": [
    "solution(aa)"
   ]
  },
  {
   "cell_type": "code",
   "execution_count": 62,
   "metadata": {},
   "outputs": [],
   "source": [
    "bb = \"try    hello world\""
   ]
  },
  {
   "cell_type": "code",
   "execution_count": 65,
   "metadata": {},
   "outputs": [],
   "source": [
    "ba = bb.split()"
   ]
  },
  {
   "cell_type": "code",
   "execution_count": 66,
   "metadata": {},
   "outputs": [
    {
     "data": {
      "text/plain": [
       "['try', 'hello', 'world']"
      ]
     },
     "execution_count": 66,
     "metadata": {},
     "output_type": "execute_result"
    }
   ],
   "source": [
    "ba"
   ]
  },
  {
   "cell_type": "code",
   "execution_count": 61,
   "metadata": {},
   "outputs": [
    {
     "data": {
      "text/plain": [
       "3"
      ]
     },
     "execution_count": 61,
     "metadata": {},
     "output_type": "execute_result"
    }
   ],
   "source": [
    "len(ba)"
   ]
  },
  {
   "cell_type": "code",
   "execution_count": 63,
   "metadata": {},
   "outputs": [
    {
     "name": "stdout",
     "output_type": "stream",
     "text": [
      "['t', 'r', 'y', ' ', ' ', ' ', ' ', 'h', 'e', 'l', 'l', 'o', ' ', 'w', 'o', 'r', 'l', 'd']\n",
      "['T', 'R', 'y', ' ', ' ', ' ', ' ', 'H', 'e', 'L', 'l', 'O', ' ', 'W', 'o', 'R', 'l', 'D']\n"
     ]
    },
    {
     "data": {
      "text/plain": [
       "'TRy    HeLlO WoRlD'"
      ]
     },
     "execution_count": 63,
     "metadata": {},
     "output_type": "execute_result"
    }
   ],
   "source": [
    "solution(bb)"
   ]
  },
  {
   "cell_type": "code",
   "execution_count": 64,
   "metadata": {},
   "outputs": [],
   "source": [
    "s = \"try hello worl    d\""
   ]
  },
  {
   "cell_type": "code",
   "execution_count": 65,
   "metadata": {},
   "outputs": [
    {
     "name": "stdout",
     "output_type": "stream",
     "text": [
      "['t', 'r', 'y', ' ', 'h', 'e', 'l', 'l', 'o', ' ', 'w', 'o', 'r', 'l', ' ', ' ', ' ', ' ', 'd']\n",
      "['T', 'R', 'y', ' ', 'h', 'E', 'l', 'L', 'o', ' ', 'w', 'O', 'r', 'L', ' ', ' ', ' ', ' ', 'd']\n"
     ]
    },
    {
     "data": {
      "text/plain": [
       "'TRy hElLo wOrL    d'"
      ]
     },
     "execution_count": 65,
     "metadata": {},
     "output_type": "execute_result"
    }
   ],
   "source": [
    "solution(s)"
   ]
  },
  {
   "cell_type": "code",
   "execution_count": 50,
   "metadata": {},
   "outputs": [],
   "source": [
    "a = \"TRY HELLO WORLD\""
   ]
  },
  {
   "cell_type": "code",
   "execution_count": 51,
   "metadata": {},
   "outputs": [
    {
     "name": "stdout",
     "output_type": "stream",
     "text": [
      "['T', 'r', 'Y', ' ', 'H', 'e', 'L', 'l', 'O', ' ', 'W', 'o', 'R', 'l', 'D']\n"
     ]
    },
    {
     "data": {
      "text/plain": [
       "'TrY HeLlO WoRlD'"
      ]
     },
     "execution_count": 51,
     "metadata": {},
     "output_type": "execute_result"
    }
   ],
   "source": [
    "solution(a)"
   ]
  },
  {
   "cell_type": "code",
   "execution_count": 52,
   "metadata": {},
   "outputs": [],
   "source": [
    "b = \"TRY helLo wOrld\""
   ]
  },
  {
   "cell_type": "code",
   "execution_count": 53,
   "metadata": {
    "scrolled": true
   },
   "outputs": [
    {
     "name": "stdout",
     "output_type": "stream",
     "text": [
      "['T', 'r', 'Y', ' ', 'H', 'e', 'L', 'l', 'O', ' ', 'W', 'o', 'R', 'l', 'D']\n"
     ]
    },
    {
     "data": {
      "text/plain": [
       "'TrY HeLlO WoRlD'"
      ]
     },
     "execution_count": 53,
     "metadata": {},
     "output_type": "execute_result"
    }
   ],
   "source": [
    "solution(b)"
   ]
  },
  {
   "cell_type": "code",
   "execution_count": 8,
   "metadata": {},
   "outputs": [
    {
     "name": "stdout",
     "output_type": "stream",
     "text": [
      "['a', 'b', 'c', 'd']\n",
      "['A', 'b', 'C', 'd']\n"
     ]
    }
   ],
   "source": [
    "a = \"abcd\"\n",
    "b = list(a)\n",
    "print(b)\n",
    "for i in range(0, len(b)) :\n",
    "    if i % 2 == 0 :\n",
    "        b[i] = b[i].upper() # upper한 특정값을 해당값으로 바꿔야함\n",
    "print(b)"
   ]
  },
  {
   "cell_type": "code",
   "execution_count": 7,
   "metadata": {},
   "outputs": [
    {
     "name": "stdout",
     "output_type": "stream",
     "text": [
      "heLlo world\n"
     ]
    }
   ],
   "source": [
    "sample_str=\"hello world\"\n",
    "sample_list=list(sample_str)                                           \n",
    "sample_list[2]=sample_list[2].upper()\n",
    "print(''.join(str(i) for i in sample_list))"
   ]
  },
  {
   "cell_type": "markdown",
   "metadata": {},
   "source": [
    "### 다른사람 코드..."
   ]
  },
  {
   "cell_type": "code",
   "execution_count": null,
   "metadata": {},
   "outputs": [],
   "source": [
    "def toWeirdCase(s):\n",
    "    return \" \".join(map(lambda x: \"\".join([a.lower() if i % 2 else a.upper() for i, a in enumerate(x)]), s.split(\" \")))"
   ]
  },
  {
   "cell_type": "code",
   "execution_count": null,
   "metadata": {},
   "outputs": [],
   "source": [
    "def toWeirdCase(s):\n",
    "    res = []\n",
    "    for x in s.split(' '):\n",
    "        word = ''\n",
    "        for i in range(len(x)):\n",
    "            c = x[i].upper() if i % 2 == 0 else x[i].lower()\n",
    "            word = word + c\n",
    "        res.append(word)\n",
    "    return ' '.join(res)"
   ]
  }
 ],
 "metadata": {
  "kernelspec": {
   "display_name": "Python 3",
   "language": "python",
   "name": "python3"
  },
  "language_info": {
   "codemirror_mode": {
    "name": "ipython",
    "version": 3
   },
   "file_extension": ".py",
   "mimetype": "text/x-python",
   "name": "python",
   "nbconvert_exporter": "python",
   "pygments_lexer": "ipython3",
   "version": "3.8.5"
  }
 },
 "nbformat": 4,
 "nbformat_minor": 4
}
