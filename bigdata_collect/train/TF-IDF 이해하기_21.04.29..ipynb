{
 "cells": [
  {
   "cell_type": "code",
   "execution_count": 1,
   "metadata": {},
   "outputs": [],
   "source": [
    "word_list = [\n",
    "    \"남자 남자 남자 밥을 먹는다\",\n",
    "    \"남자 남자 걷는다\",\n",
    "    \"남자 남자 남자\",\n",
    "    \"남자 남자 남자 남자\",\n",
    "    \"남자 남자 남자 여자 여자\",\n",
    "    \"남자 남자 남자 밥 밥 먹는다\",\n",
    "    \"남자 여자 밥을 먹는다\",    \n",
    "]"
   ]
  },
  {
   "cell_type": "code",
   "execution_count": 2,
   "metadata": {},
   "outputs": [],
   "source": [
    "# tfidf 계산\n",
    "from sklearn.feature_extraction.text import TfidfVectorizer"
   ]
  },
  {
   "cell_type": "code",
   "execution_count": 3,
   "metadata": {},
   "outputs": [],
   "source": [
    "# tf_idf를 계산 할 객체\n",
    "tf_idf = TfidfVectorizer()"
   ]
  },
  {
   "cell_type": "code",
   "execution_count": 4,
   "metadata": {},
   "outputs": [
    {
     "data": {
      "text/plain": [
       "<7x5 sparse matrix of type '<class 'numpy.float64'>'\n",
       "\twith 15 stored elements in Compressed Sparse Row format>"
      ]
     },
     "execution_count": 4,
     "metadata": {},
     "output_type": "execute_result"
    }
   ],
   "source": [
    "# word_list : tf_idf 계산할 문장\n",
    "# tf_idf 계산\n",
    "tf_idf.fit_transform(word_list)"
   ]
  },
  {
   "cell_type": "code",
   "execution_count": 5,
   "metadata": {},
   "outputs": [],
   "source": [
    "vector = tf_idf.fit_transform(word_list)"
   ]
  },
  {
   "cell_type": "code",
   "execution_count": 6,
   "metadata": {},
   "outputs": [
    {
     "data": {
      "text/plain": [
       "array([[0.        , 0.75496054, 0.42608643, 0.49848264, 0.        ],\n",
       "       [0.76641418, 0.64234672, 0.        , 0.        , 0.        ],\n",
       "       [0.        , 1.        , 0.        , 0.        , 0.        ],\n",
       "       [0.        , 1.        , 0.        , 0.        , 0.        ],\n",
       "       [0.        , 0.60369703, 0.        , 0.        , 0.79721383],\n",
       "       [0.        , 0.87087416, 0.49150604, 0.        , 0.        ],\n",
       "       [0.        , 0.29217647, 0.49469776, 0.57875169, 0.57875169]])"
      ]
     },
     "execution_count": 6,
     "metadata": {},
     "output_type": "execute_result"
    }
   ],
   "source": [
    "vector.A"
   ]
  },
  {
   "cell_type": "code",
   "execution_count": 7,
   "metadata": {},
   "outputs": [
    {
     "data": {
      "text/plain": [
       "['걷는다', '남자', '먹는다', '밥을', '여자']"
      ]
     },
     "execution_count": 7,
     "metadata": {},
     "output_type": "execute_result"
    }
   ],
   "source": [
    "tf_idf.get_feature_names()"
   ]
  },
  {
   "cell_type": "code",
   "execution_count": 21,
   "metadata": {},
   "outputs": [],
   "source": [
    "# 명사를 리턴하는 함수\n",
    "def getNoun(text):\n",
    "    print(\"text = \", text)\n",
    "    stems = text.split(\" \")\n",
    "    print(\"stems = \", stems)\n",
    "    print(\"=\"*70)\n",
    "    return stems"
   ]
  },
  {
   "cell_type": "code",
   "execution_count": 13,
   "metadata": {},
   "outputs": [],
   "source": [
    "# tf_idf를 계산 할 객체\n",
    "tf_idf1 = TfidfVectorizer(tokenizer = getNoun, smooth_idf = False)"
   ]
  },
  {
   "cell_type": "code",
   "execution_count": 14,
   "metadata": {},
   "outputs": [
    {
     "name": "stdout",
     "output_type": "stream",
     "text": [
      "text =  남자 남자 남자 밥을 먹는다\n",
      "stems =  ['남자', '남자', '남자', '밥을', '먹는다']\n",
      "==================================================\n",
      "text =  남자 남자 걷는다\n",
      "stems =  ['남자', '남자', '걷는다']\n",
      "==================================================\n",
      "text =  남자 남자 남자\n",
      "stems =  ['남자', '남자', '남자']\n",
      "==================================================\n",
      "text =  남자 남자 남자 남자\n",
      "stems =  ['남자', '남자', '남자', '남자']\n",
      "==================================================\n",
      "text =  남자 남자 남자 여자 여자\n",
      "stems =  ['남자', '남자', '남자', '여자', '여자']\n",
      "==================================================\n",
      "text =  남자 남자 남자 밥 밥 먹는다\n",
      "stems =  ['남자', '남자', '남자', '밥', '밥', '먹는다']\n",
      "==================================================\n",
      "text =  남자 여자 밥을 먹는다\n",
      "stems =  ['남자', '여자', '밥을', '먹는다']\n",
      "==================================================\n"
     ]
    },
    {
     "data": {
      "text/plain": [
       "<7x6 sparse matrix of type '<class 'numpy.float64'>'\n",
       "\twith 16 stored elements in Compressed Sparse Row format>"
      ]
     },
     "execution_count": 14,
     "metadata": {},
     "output_type": "execute_result"
    }
   ],
   "source": [
    "# word_list : tf_idf1 계산할 문장\n",
    "# tf_idf 계산\n",
    "tf_idf1.fit_transform(word_list)"
   ]
  },
  {
   "cell_type": "code",
   "execution_count": 15,
   "metadata": {},
   "outputs": [
    {
     "name": "stdout",
     "output_type": "stream",
     "text": [
      "text =  남자 남자 남자 밥을 먹는다\n",
      "stems =  ['남자', '남자', '남자', '밥을', '먹는다']\n",
      "==================================================\n",
      "text =  남자 남자 걷는다\n",
      "stems =  ['남자', '남자', '걷는다']\n",
      "==================================================\n",
      "text =  남자 남자 남자\n",
      "stems =  ['남자', '남자', '남자']\n",
      "==================================================\n",
      "text =  남자 남자 남자 남자\n",
      "stems =  ['남자', '남자', '남자', '남자']\n",
      "==================================================\n",
      "text =  남자 남자 남자 여자 여자\n",
      "stems =  ['남자', '남자', '남자', '여자', '여자']\n",
      "==================================================\n",
      "text =  남자 남자 남자 밥 밥 먹는다\n",
      "stems =  ['남자', '남자', '남자', '밥', '밥', '먹는다']\n",
      "==================================================\n",
      "text =  남자 여자 밥을 먹는다\n",
      "stems =  ['남자', '여자', '밥을', '먹는다']\n",
      "==================================================\n"
     ]
    }
   ],
   "source": [
    "vector1 = tf_idf1.fit_transform(word_list)"
   ]
  },
  {
   "cell_type": "code",
   "execution_count": 24,
   "metadata": {},
   "outputs": [
    {
     "data": {
      "text/plain": [
       "['걷는다', '남자', '먹는다', '밥', '밥을', '여자']"
      ]
     },
     "execution_count": 24,
     "metadata": {},
     "output_type": "execute_result"
    }
   ],
   "source": [
    "tf_idf1.get_feature_names()"
   ]
  },
  {
   "cell_type": "code",
   "execution_count": 16,
   "metadata": {
    "scrolled": true
   },
   "outputs": [
    {
     "data": {
      "text/plain": [
       "array([[0.        , 0.71739444, 0.44174707, 0.        , 0.53870654,\n",
       "        0.        ],\n",
       "       [0.82734663, 0.56169169, 0.        , 0.        , 0.        ,\n",
       "        0.        ],\n",
       "       [0.        , 1.        , 0.        , 0.        , 0.        ,\n",
       "        0.        ],\n",
       "       [0.        , 1.        , 0.        , 0.        , 0.        ,\n",
       "        0.        ],\n",
       "       [0.        , 0.55422893, 0.        , 0.        , 0.        ,\n",
       "        0.83236428],\n",
       "       [0.        , 0.43700933, 0.26909547, 0.85826014, 0.        ,\n",
       "        0.        ],\n",
       "       [0.        , 0.26204969, 0.48408383, 0.        , 0.59033584,\n",
       "        0.59033584]])"
      ]
     },
     "execution_count": 16,
     "metadata": {},
     "output_type": "execute_result"
    }
   ],
   "source": [
    "vector1.A"
   ]
  },
  {
   "cell_type": "code",
   "execution_count": 22,
   "metadata": {},
   "outputs": [
    {
     "name": "stdout",
     "output_type": "stream",
     "text": [
      "text =  벌써 5시반이다 오늘은 상담하는 날인가?\n",
      "stems =  ['벌써', '5시반이다', '오늘은', '상담하는', '날인가?']\n",
      "======================================================================\n"
     ]
    },
    {
     "data": {
      "text/plain": [
       "['벌써', '5시반이다', '오늘은', '상담하는', '날인가?']"
      ]
     },
     "execution_count": 22,
     "metadata": {},
     "output_type": "execute_result"
    }
   ],
   "source": [
    "getNoun(\"벌써 5시반이다 오늘은 상담하는 날인가?\")"
   ]
  },
  {
   "cell_type": "code",
   "execution_count": 26,
   "metadata": {},
   "outputs": [
    {
     "data": {
      "text/html": [
       "<div>\n",
       "<style scoped>\n",
       "    .dataframe tbody tr th:only-of-type {\n",
       "        vertical-align: middle;\n",
       "    }\n",
       "\n",
       "    .dataframe tbody tr th {\n",
       "        vertical-align: top;\n",
       "    }\n",
       "\n",
       "    .dataframe thead th {\n",
       "        text-align: right;\n",
       "    }\n",
       "</style>\n",
       "<table border=\"1\" class=\"dataframe\">\n",
       "  <thead>\n",
       "    <tr style=\"text-align: right;\">\n",
       "      <th></th>\n",
       "      <th>걷는다</th>\n",
       "      <th>남자</th>\n",
       "      <th>먹는다</th>\n",
       "      <th>밥</th>\n",
       "      <th>밥을</th>\n",
       "      <th>여자</th>\n",
       "    </tr>\n",
       "  </thead>\n",
       "  <tbody>\n",
       "    <tr>\n",
       "      <th>0</th>\n",
       "      <td>0.000000</td>\n",
       "      <td>0.717394</td>\n",
       "      <td>0.441747</td>\n",
       "      <td>0.00000</td>\n",
       "      <td>0.538707</td>\n",
       "      <td>0.000000</td>\n",
       "    </tr>\n",
       "    <tr>\n",
       "      <th>1</th>\n",
       "      <td>0.827347</td>\n",
       "      <td>0.561692</td>\n",
       "      <td>0.000000</td>\n",
       "      <td>0.00000</td>\n",
       "      <td>0.000000</td>\n",
       "      <td>0.000000</td>\n",
       "    </tr>\n",
       "    <tr>\n",
       "      <th>2</th>\n",
       "      <td>0.000000</td>\n",
       "      <td>1.000000</td>\n",
       "      <td>0.000000</td>\n",
       "      <td>0.00000</td>\n",
       "      <td>0.000000</td>\n",
       "      <td>0.000000</td>\n",
       "    </tr>\n",
       "    <tr>\n",
       "      <th>3</th>\n",
       "      <td>0.000000</td>\n",
       "      <td>1.000000</td>\n",
       "      <td>0.000000</td>\n",
       "      <td>0.00000</td>\n",
       "      <td>0.000000</td>\n",
       "      <td>0.000000</td>\n",
       "    </tr>\n",
       "    <tr>\n",
       "      <th>4</th>\n",
       "      <td>0.000000</td>\n",
       "      <td>0.554229</td>\n",
       "      <td>0.000000</td>\n",
       "      <td>0.00000</td>\n",
       "      <td>0.000000</td>\n",
       "      <td>0.832364</td>\n",
       "    </tr>\n",
       "    <tr>\n",
       "      <th>5</th>\n",
       "      <td>0.000000</td>\n",
       "      <td>0.437009</td>\n",
       "      <td>0.269095</td>\n",
       "      <td>0.85826</td>\n",
       "      <td>0.000000</td>\n",
       "      <td>0.000000</td>\n",
       "    </tr>\n",
       "    <tr>\n",
       "      <th>6</th>\n",
       "      <td>0.000000</td>\n",
       "      <td>0.262050</td>\n",
       "      <td>0.484084</td>\n",
       "      <td>0.00000</td>\n",
       "      <td>0.590336</td>\n",
       "      <td>0.590336</td>\n",
       "    </tr>\n",
       "  </tbody>\n",
       "</table>\n",
       "</div>"
      ],
      "text/plain": [
       "        걷는다        남자       먹는다        밥        밥을        여자\n",
       "0  0.000000  0.717394  0.441747  0.00000  0.538707  0.000000\n",
       "1  0.827347  0.561692  0.000000  0.00000  0.000000  0.000000\n",
       "2  0.000000  1.000000  0.000000  0.00000  0.000000  0.000000\n",
       "3  0.000000  1.000000  0.000000  0.00000  0.000000  0.000000\n",
       "4  0.000000  0.554229  0.000000  0.00000  0.000000  0.832364\n",
       "5  0.000000  0.437009  0.269095  0.85826  0.000000  0.000000\n",
       "6  0.000000  0.262050  0.484084  0.00000  0.590336  0.590336"
      ]
     },
     "execution_count": 26,
     "metadata": {},
     "output_type": "execute_result"
    }
   ],
   "source": [
    "# 데이터 프레임으로 변환\n",
    "import pandas as pd\n",
    "df_tfidf1 = pd.DataFrame(vector1.A, columns = tf_idf1.get_feature_names())\n",
    "df_tfidf1"
   ]
  }
 ],
 "metadata": {
  "kernelspec": {
   "display_name": "Python 3",
   "language": "python",
   "name": "python3"
  },
  "language_info": {
   "codemirror_mode": {
    "name": "ipython",
    "version": 3
   },
   "file_extension": ".py",
   "mimetype": "text/x-python",
   "name": "python",
   "nbconvert_exporter": "python",
   "pygments_lexer": "ipython3",
   "version": "3.8.5"
  }
 },
 "nbformat": 4,
 "nbformat_minor": 4
}
