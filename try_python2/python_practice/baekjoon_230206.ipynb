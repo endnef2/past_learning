{
 "cells": [
  {
   "attachments": {},
   "cell_type": "markdown",
   "metadata": {},
   "source": [
    "### 분수찾기"
   ]
  },
  {
   "cell_type": "code",
   "execution_count": 76,
   "metadata": {},
   "outputs": [
    {
     "name": "stdout",
     "output_type": "stream",
     "text": [
      "3 2\n"
     ]
    }
   ],
   "source": [
    "# 몇번째 그룹에 X가 속하나?\n",
    "n = int(input())\n",
    "line = 1\n",
    "while n > line :\n",
    "    n-=line\n",
    "    line+=1\n",
    "\n",
    "print(line, n)"
   ]
  },
  {
   "cell_type": "code",
   "execution_count": 78,
   "metadata": {},
   "outputs": [
    {
     "name": "stdout",
     "output_type": "stream",
     "text": [
      "2/2\n"
     ]
    }
   ],
   "source": [
    "# 조건에 맞게 출력!\n",
    "if line % 2 == 0:\n",
    "    print(n, line-n+1, sep='/')\n",
    "else :\n",
    "    print(line-n+1, n, sep='/')"
   ]
  },
  {
   "cell_type": "code",
   "execution_count": 80,
   "metadata": {},
   "outputs": [
    {
     "name": "stdout",
     "output_type": "stream",
     "text": [
      "1 1\n",
      "2 3\n",
      "3 6\n"
     ]
    }
   ],
   "source": [
    "# 추가 방법\n",
    "n = int(input())\n",
    "\n",
    "line = 0 # 라인\n",
    "max_num = 0 # 입력된 숫자의 라인에서 가장 큰 숫자\n",
    "\n",
    "while n > max_num :\n",
    "    line+=1\n",
    "    max_num +=line\n",
    "    print(line, max_num)"
   ]
  },
  {
   "cell_type": "code",
   "execution_count": 82,
   "metadata": {},
   "outputs": [
    {
     "name": "stdout",
     "output_type": "stream",
     "text": [
      "2/2\n"
     ]
    }
   ],
   "source": [
    "gap = max_num - n\n",
    "if line%2 == 0 :\n",
    "    top = line - gap\n",
    "    under = gap + 1\n",
    "else :\n",
    "    under = line - gap\n",
    "    top = gap + 1\n",
    "print(f'{top}/{under}')"
   ]
  },
  {
   "cell_type": "code",
   "execution_count": 3,
   "metadata": {},
   "outputs": [
    {
     "name": "stdout",
     "output_type": "stream",
     "text": [
      "2 3\n"
     ]
    }
   ],
   "source": [
    "# 다시풀기\n",
    "n = int(input())\n",
    "line = 1\n",
    "while line < n :\n",
    "    n-=line\n",
    "    line+=1\n",
    "\n",
    "print(n, line)"
   ]
  },
  {
   "cell_type": "code",
   "execution_count": 5,
   "metadata": {},
   "outputs": [
    {
     "name": "stdout",
     "output_type": "stream",
     "text": [
      "2/2\n"
     ]
    }
   ],
   "source": [
    "if line%2 == 0:\n",
    "    print(n, line-n+1, sep = \"/\")\n",
    "else:\n",
    "    print(line-n+1, n, sep = \"/\")"
   ]
  },
  {
   "cell_type": "code",
   "execution_count": 15,
   "metadata": {},
   "outputs": [
    {
     "name": "stdout",
     "output_type": "stream",
     "text": [
      "18446744073709551615\n"
     ]
    }
   ],
   "source": [
    "a, b = input().split()\n",
    "a = int(a)\n",
    "b = int(b)\n",
    "print(a+b)"
   ]
  },
  {
   "cell_type": "code",
   "execution_count": 16,
   "metadata": {},
   "outputs": [
    {
     "name": "stdout",
     "output_type": "stream",
     "text": [
      "18446744073709551615\n"
     ]
    }
   ],
   "source": [
    "print(sum(map(int,input().split())))"
   ]
  }
 ],
 "metadata": {
  "kernelspec": {
   "display_name": "base",
   "language": "python",
   "name": "python3"
  },
  "language_info": {
   "codemirror_mode": {
    "name": "ipython",
    "version": 3
   },
   "file_extension": ".py",
   "mimetype": "text/x-python",
   "name": "python",
   "nbconvert_exporter": "python",
   "pygments_lexer": "ipython3",
   "version": "3.9.12"
  },
  "orig_nbformat": 4,
  "vscode": {
   "interpreter": {
    "hash": "ad2bdc8ecc057115af97d19610ffacc2b4e99fae6737bb82f5d7fb13d2f2c186"
   }
  }
 },
 "nbformat": 4,
 "nbformat_minor": 2
}
