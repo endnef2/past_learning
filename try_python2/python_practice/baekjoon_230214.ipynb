{
 "cells": [
  {
   "attachments": {},
   "cell_type": "markdown",
   "metadata": {},
   "source": [
    "# 설탕 배달\n",
    "문제\n",
    "상근이는 요즘 설탕공장에서 설탕을 배달하고 있다. 상근이는 지금 사탕가게에 설탕을 정확하게 N킬로그램을 배달해야 한다. 설탕공장에서 만드는 설탕은 봉지에 담겨져 있다. 봉지는 3킬로그램 봉지와 5킬로그램 봉지가 있다.\n",
    "\n",
    "상근이는 귀찮기 때문에, 최대한 적은 봉지를 들고 가려고 한다. 예를 들어, 18킬로그램 설탕을 배달해야 할 때, 3킬로그램 봉지 6개를 가져가도 되지만, 5킬로그램 3개와 3킬로그램 1개를 배달하면, 더 적은 개수의 봉지를 배달할 수 있다.\n",
    "\n",
    "상근이가 설탕을 정확하게 N킬로그램 배달해야 할 때, 봉지 몇 개를 가져가면 되는지 그 수를 구하는 프로그램을 작성하시오.\n",
    "\n",
    "참고 : https://ooyoung.tistory.com/81"
   ]
  },
  {
   "cell_type": "code",
   "execution_count": 3,
   "metadata": {},
   "outputs": [],
   "source": [
    "sugar = int(input())\n",
    "\n",
    "bag = 0"
   ]
  },
  {
   "cell_type": "code",
   "execution_count": 4,
   "metadata": {},
   "outputs": [
    {
     "name": "stdout",
     "output_type": "stream",
     "text": [
      "10\n"
     ]
    }
   ],
   "source": [
    "while sugar >= 0 :\n",
    "    if sugar % 5 ==0 : # 5의 배수인 경우\n",
    "        bag += (sugar // 5) # 5로 나눈 몫을 구해야 정수가 됨\n",
    "        print(bag)\n",
    "        break\n",
    "    sugar -= 3 # 5의 배수가 아닌 경우 3kg 봉지를 사용했다고 표현하기\n",
    "    bag +=1 # 5의 배수가 될때까지 설탕 -3, 봉지 +1\n",
    "else :\n",
    "    print(-1)"
   ]
  },
  {
   "cell_type": "code",
   "execution_count": 5,
   "metadata": {},
   "outputs": [
    {
     "name": "stdout",
     "output_type": "stream",
     "text": [
      "4\n"
     ]
    }
   ],
   "source": [
    "sugar = int(input())\n",
    "\n",
    "bag = 0\n",
    "\n",
    "while sugar >= 0 :\n",
    "    if sugar % 5 ==0 : # 5의 배수인 경우\n",
    "        bag += (sugar // 5) # 5로 나눈 몫을 구해야 정수가 됨\n",
    "        print(bag)\n",
    "        break\n",
    "    sugar -= 3 # 5의 배수가 아닌 경우 3kg 봉지를 사용했다고 표현하기\n",
    "    bag +=1 # 5의 배수가 될때까지 설탕 -3, 봉지 +1\n",
    "else :\n",
    "    print(-1)"
   ]
  },
  {
   "cell_type": "code",
   "execution_count": 5,
   "metadata": {},
   "outputs": [
    {
     "name": "stdout",
     "output_type": "stream",
     "text": [
      "3\n"
     ]
    }
   ],
   "source": [
    "sugar = int(input())\n",
    "bag = 0\n",
    "\n",
    "while sugar >= 0 :\n",
    "    if sugar%5 == 0:\n",
    "        bag += (sugar // 5)\n",
    "        print(bag)\n",
    "        break\n",
    "    sugar -= 3\n",
    "    bag += 1\n",
    "else :\n",
    "    print(-1)\n"
   ]
  },
  {
   "attachments": {},
   "cell_type": "markdown",
   "metadata": {},
   "source": [
    "# 소수찾기"
   ]
  },
  {
   "cell_type": "code",
   "execution_count": 2,
   "metadata": {},
   "outputs": [
    {
     "name": "stdout",
     "output_type": "stream",
     "text": [
      "3\n"
     ]
    }
   ],
   "source": [
    "n = int(input())\n",
    "a = list(map(int, input().split()))\n",
    "b = []\n",
    "for i in a:\n",
    "    for j in range(1, i):\n",
    "        if i%j != 0:\n",
    "            b.append(i)\n",
    "c = list(set(b))\n",
    "print(len(c))"
   ]
  },
  {
   "attachments": {},
   "cell_type": "markdown",
   "metadata": {},
   "source": [
    "##### 참고 : https://hei-jayden.tistory.com/25"
   ]
  },
  {
   "cell_type": "code",
   "execution_count": null,
   "metadata": {},
   "outputs": [],
   "source": []
  }
 ],
 "metadata": {
  "kernelspec": {
   "display_name": "base",
   "language": "python",
   "name": "python3"
  },
  "language_info": {
   "codemirror_mode": {
    "name": "ipython",
    "version": 3
   },
   "file_extension": ".py",
   "mimetype": "text/x-python",
   "name": "python",
   "nbconvert_exporter": "python",
   "pygments_lexer": "ipython3",
   "version": "3.9.12"
  },
  "orig_nbformat": 4,
  "vscode": {
   "interpreter": {
    "hash": "ad2bdc8ecc057115af97d19610ffacc2b4e99fae6737bb82f5d7fb13d2f2c186"
   }
  }
 },
 "nbformat": 4,
 "nbformat_minor": 2
}
